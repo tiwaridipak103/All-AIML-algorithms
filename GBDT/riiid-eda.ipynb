{
 "cells": [
  {
   "cell_type": "markdown",
   "metadata": {},
   "source": [
    "# Riiid! Answer Correctness Prediction Challenge 2020\n",
    "## 1.Description\n",
    "<a href=\"https://ibb.co/w4cjKg9\"><img src=\"https://i.ibb.co/gJ4hD95/image.png\" alt=\"image\"  width=\"4777\" height=\"1190\"></a>\n",
    "\n",
    "Riiid is an AI solutions provider in the field of education market and empowers global education players to rethink traditional ways of learning leveraging AI. With a strong belief in equal opportunity in education, Riiid launched an AI tutor based on deep-learning algorithms in 2017 that attracted more than one million South Korean students. This year, the company released EdNet, the world’s largest open database for AI education containing more than 100 million student interactions.\n",
    "\n",
    "\n",
    "In this challenge we have to predict whether students are able to answer their next questions correctly. You'll be provided with the same sorts of information a complete education app would have: that student's historic performance, the performance of other students on the same question, metadata about the question itself, and more.\n",
    "\n"
   ]
  },
  {
   "cell_type": "markdown",
   "metadata": {},
   "source": [
    "## 2.Problem Statement\n",
    "* To predict whether students are able to answer their next questions correctly.\n",
    "* It is a binary classification problem,for a given historic performance data of a student predict whether he/she will able to answer the next question correctly or not."
   ]
  },
  {
   "cell_type": "markdown",
   "metadata": {},
   "source": [
    "## 2.Bussiness OBjectives/Constraints"
   ]
  },
  {
   "cell_type": "markdown",
   "metadata": {},
   "source": [
    "## 3.Data Description\n"
   ]
  },
  {
   "cell_type": "markdown",
   "metadata": {},
   "source": [
    "<b>1.train.csv</b>\n",
    "\n",
    "<pre><b>row_id:</b>(int64) ID code for the row.\n",
    "\n",
    "timestamp: (int64) the time in milliseconds between this user interaction and the first event completion from that user.\n",
    "\n",
    "user_id: (int32) ID code for the user.\n",
    "\n",
    "content_id: (int16) ID code for the user interaction\n",
    "\n",
    "content_type_id: (int8) 0 if the event was a question being posed to the user, 1 if the event was the user watching a lecture.\n",
    "\n",
    "task_container_id: (int16) Id code for the batch of questions or lectures. For example, a user might see three questions in a row before seeing the explanations for any of them. Those three would all share a task_container_id.\n",
    "\n",
    "user_answer: (int8) the user's answer to the question, if any. Read -1 as null, for lectures.\n",
    "\n",
    "answered_correctly: (int8) if the user responded correctly. Read -1 as null, for lectures.\n",
    "\n",
    "prior_question_elapsed_time: (float32) The average time in milliseconds it took a user to answer each question in the previous question bundle, ignoring any lectures in between. Is null for a user's first question bundle or lecture. Note that the time is the average time a user took to solve each question in the previous bundle.\n",
    "\n",
    "prior_question_had_explanation: (bool) Whether or not the user saw an explanation and the correct response(s) after answering the previous question bundle, ignoring any lectures in between. The value is shared across a single question bundle, and is null for a user's first question bundle or lecture. Typically the first several questions a user sees were part of an onboarding diagnostic test where they did not get any feedback.</pre>\n",
    "\n",
    "<b>2.questions.csv:</b> (metadata for the questions posed to users)\n",
    "\n",
    "<pre> question_id: foreign key for the train/test content_id column, when the content type is question (0).\n",
    "\n",
    "bundle_id: code for which questions are served together.\n",
    "\n",
    "correct_answer: the answer to the question. Can be compared with the train user_answer column to check if the user was right.\n",
    "\n",
    "part: the relevant section of the TOEIC test.\n",
    "\n",
    "tags: one or more detailed tag codes for the question. The meaning of the tags will not be provided, but these codes are sufficient for clustering the questions together.</pre>\n",
    "\n",
    "<b>3.lectures.csv:</b> (metadata for the lectures watched by users as they progress in their education.)\n",
    "\n",
    "<pre>lecture_id: foreign key for the train/test content_id column, when the content type is lecture (1).\n",
    "\n",
    "part: top level category code for the lecture.\n",
    "\n",
    "tag: one tag codes for the lecture. The meaning of the tags will not be provided, but these codes are sufficient for clustering the lectures together.\n",
    "\n",
    "type_of: brief description of the core purpose of the lecture</pre>\n",
    "\n",
    "example_test_rows.csv Three sample groups of the test set data as it will be delivered by the time-series API. The format is largely the same as train.csv. There are two different columns that mirror what information the AI tutor actually has available at any given time, but with the user interactions grouped together for the sake of API performance rather than strictly showing information for a single user at a time. Some users will appear in the hidden test set that have NOT been presented in the train set, emulating the challenge of quickly adapting to modeling new arrivals to a website.\n",
    "\n",
    "prior_group_responses (string) provides all of the user_answer entries for previous group in a string representation of a list in the first row of the group. All other rows in each group are null. If you are using Python, you will likely want to call eval on the non-null rows. Some rows may be null, or empty lists.\n",
    "\n",
    "prior_group_answers_correct (string) provides all the answered_correctly field for previous group, with the same format and caveats as prior_group_responses. Some rows may be null, or empty lists."
   ]
  },
  {
   "cell_type": "markdown",
   "metadata": {},
   "source": [
    "## 4.Performance Metric\n",
    "* Submissions are evaluated on area under the ROC curve between the predicted probability and the observed target i.e AUC Score."
   ]
  },
  {
   "cell_type": "markdown",
   "metadata": {},
   "source": [
    "## 5.Exploratory Data Analysis"
   ]
  },
  {
   "cell_type": "code",
   "execution_count": null,
   "metadata": {},
   "outputs": [],
   "source": [
    "# Importing Libraries\n",
    "import numpy as np \n",
    "import pandas as pd\n",
    "import matplotlib.pyplot as plt\n",
    "import matplotlib.pylab \n",
    "import seaborn as sns#Plots\n",
    "from matplotlib import rcParams#Size of plots\n",
    "import os\n",
    "for dirname, _, filenames in os.walk('/kaggle/input'):\n",
    "    for filename in filenames:\n",
    "        print(os.path.join(dirname, filename))"
   ]
  },
  {
   "cell_type": "markdown",
   "metadata": {},
   "source": [
    "<a id=\"1\"></a>\n",
    "<h2 style='background:black; border:0; color:white'><center>1. train.csv<center><h2>"
   ]
  },
  {
   "cell_type": "code",
   "execution_count": null,
   "metadata": {},
   "outputs": [],
   "source": [
    "%%time\n",
    "\n",
    "dtypes = {\n",
    "    \"row_id\": \"int64\",\n",
    "    \"timestamp\": \"int64\",\n",
    "    \"user_id\": \"int32\",\n",
    "    \"content_id\": \"int16\",\n",
    "    \"content_type_id\": \"boolean\",\n",
    "    \"task_container_id\": \"int16\",\n",
    "    \"user_answer\": \"int8\",\n",
    "    \"answered_correctly\": \"int8\",\n",
    "    \"prior_question_elapsed_time\": \"float32\", \n",
    "    \"prior_question_had_explanation\": \"boolean\"\n",
    "}\n",
    "\n",
    "data = pd.read_csv(\"../input/riiid-test-answer-prediction/train.csv\", dtype=dtypes)\n",
    "\n",
    "print(\"Train size:\", data.shape)"
   ]
  },
  {
   "cell_type": "code",
   "execution_count": null,
   "metadata": {},
   "outputs": [],
   "source": [
    "data.head(50)"
   ]
  },
  {
   "cell_type": "code",
   "execution_count": null,
   "metadata": {},
   "outputs": [],
   "source": [
    "data.tail()"
   ]
  },
  {
   "cell_type": "code",
   "execution_count": null,
   "metadata": {},
   "outputs": [],
   "source": [
    "#Brief Summary of the given Dataset\n",
    "data.info(verbose=True)"
   ]
  },
  {
   "cell_type": "markdown",
   "metadata": {},
   "source": [
    "* Total no. of rows = 101230332\n",
    "* Total no. of columns = 10 "
   ]
  },
  {
   "cell_type": "code",
   "execution_count": null,
   "metadata": {},
   "outputs": [],
   "source": [
    "#checking memory usage\n",
    "data.memory_usage(deep=True)"
   ]
  },
  {
   "cell_type": "markdown",
   "metadata": {},
   "source": [
    "* row_id is taking lot of memory,also it is not an important feature."
   ]
  },
  {
   "cell_type": "code",
   "execution_count": null,
   "metadata": {},
   "outputs": [],
   "source": [
    "#droping row_id from the data\n",
    "data.drop('row_id',axis =1,inplace =True)"
   ]
  },
  {
   "cell_type": "code",
   "execution_count": null,
   "metadata": {},
   "outputs": [],
   "source": [
    "data.describe().style.background_gradient(cmap='Greys')"
   ]
  },
  {
   "cell_type": "code",
   "execution_count": null,
   "metadata": {},
   "outputs": [],
   "source": [
    "#Checking Missing Values in the data\n",
    "data.isnull().sum()"
   ]
  },
  {
   "cell_type": "code",
   "execution_count": null,
   "metadata": {},
   "outputs": [],
   "source": [
    "#creating figure,axex,title&labels\n",
    "x = list(data.isnull().sum())\n",
    "y= list(data.columns)\n",
    "X = np.arange(len(y))\n",
    "Y=[0.25,1.25,2.25,3.25,4.25,5.25,6.25,7.25,8.25]\n",
    "fig = plt.figure(figsize=(24,5))\n",
    "plt.ylabel('Counts')\n",
    "plt.title('No. of Null Values Vs total ')\n",
    "plt.xticks(Y,y)\n",
    "#creating bar plots\n",
    "plt.bar(X+0.0,x ,color = 'black', width = 0.25,alpha=0.5,label='Null Values')\n",
    "plt.bar(X+0.25,[101230332,101230332,101230332,101230332,101230332,101230332,101230332,101230332,101230332], color = 'orange', width = 0.25,alpha=0.6,label='Total')\n",
    "plt.legend()\n",
    "plt.show()"
   ]
  },
  {
   "cell_type": "code",
   "execution_count": null,
   "metadata": {},
   "outputs": [],
   "source": []
  },
  {
   "cell_type": "code",
   "execution_count": null,
   "metadata": {},
   "outputs": [],
   "source": []
  },
  {
   "cell_type": "code",
   "execution_count": null,
   "metadata": {},
   "outputs": [],
   "source": [
    "#Correlation matrix \n",
    "corr_matrix = data.corr()\n",
    "corr_matrix[\"answered_correctly\"].sort_values(ascending=False)"
   ]
  },
  {
   "cell_type": "code",
   "execution_count": null,
   "metadata": {},
   "outputs": [],
   "source": [
    "plt.figure(figsize=(18,8))\n",
    "sns.set(font_scale=1.3)\n",
    "cmap = sns.light_palette(\"#2f3b39\",as_cmap=True)\n",
    "sns.heatmap(corr_matrix, cmap=cmap,annot=True)\n",
    "plt.title(\"  Correlation Matrix of the features\",fontsize=19)\n",
    "plt.show()\n"
   ]
  },
  {
   "cell_type": "code",
   "execution_count": null,
   "metadata": {},
   "outputs": [],
   "source": [
    "dup_rows = data[data.duplicated(['timestamp','user_id','content_id'])]\n",
    "dup_rows.head(10)"
   ]
  },
  {
   "cell_type": "code",
   "execution_count": null,
   "metadata": {},
   "outputs": [],
   "source": [
    "data.loc[(data['user_id'] == 115) & (data['timestamp'] == 0)]"
   ]
  },
  {
   "cell_type": "code",
   "execution_count": null,
   "metadata": {},
   "outputs": [],
   "source": [
    "data.loc[(data['user_id'] == 338684437) & (data['timestamp'] == 0)]"
   ]
  },
  {
   "cell_type": "code",
   "execution_count": null,
   "metadata": {},
   "outputs": [],
   "source": [
    "data.loc[(data['user_id'] == 1615528747) & (data['timestamp'] == 0)]"
   ]
  },
  {
   "cell_type": "code",
   "execution_count": null,
   "metadata": {},
   "outputs": [],
   "source": [
    "data.loc[(data['user_id'] == 18971157) & (data['timestamp'] == 0)]"
   ]
  },
  {
   "cell_type": "code",
   "execution_count": null,
   "metadata": {},
   "outputs": [],
   "source": [
    "#Deduplication of entries\n",
    "final= data.drop_duplicates(keep='first', inplace=False)\n",
    "final.shape"
   ]
  },
  {
   "cell_type": "code",
   "execution_count": null,
   "metadata": {},
   "outputs": [],
   "source": [
    "data.loc[users.duplicated(keep='first'), :]"
   ]
  },
  {
   "cell_type": "code",
   "execution_count": null,
   "metadata": {},
   "outputs": [],
   "source": [
    "\n",
    "chunker = pd.read_csv(AUTHORS_PATH, names=['Author ID', 'Author name'], encoding='utf-8', chunksize=10000000)"
   ]
  },
  {
   "cell_type": "code",
   "execution_count": null,
   "metadata": {},
   "outputs": [],
   "source": [
    "%%time\n",
    "\n",
    "dtypes = {\n",
    "    \"row_id\": \"int64\",\n",
    "    \"timestamp\": \"int64\",\n",
    "    \"user_id\": \"int32\",\n",
    "    \"content_id\": \"int16\",\n",
    "    \"content_type_id\": \"boolean\",\n",
    "    \"task_container_id\": \"int16\",\n",
    "    \"user_answer\": \"int8\",\n",
    "    \"answered_correctly\": \"int8\",\n",
    "    \"prior_question_elapsed_time\": \"float32\", \n",
    "    \"prior_question_had_explanation\": \"boolean\"\n",
    "}\n",
    "\n",
    "chunker = pd.read_csv(\"../input/riiid-test-answer-prediction/train.csv\", dtype=dtypes,chunksize = 10000000)\n",
    "\n",
    "ids = set()\n",
    "for chunk in chunker:\n",
    "    chunk.drop_duplicates(keep='first', inplace=False)\n",
    "    \n",
    "    chunk = chunk[~chunk['row_id'].isin(ids)]    \n",
    "    ids.update(chunk['row_id'].values)    "
   ]
  },
  {
   "cell_type": "code",
   "execution_count": null,
   "metadata": {},
   "outputs": [],
   "source": []
  },
  {
   "cell_type": "markdown",
   "metadata": {},
   "source": [
    "Observations:"
   ]
  },
  {
   "cell_type": "markdown",
   "metadata": {},
   "source": [
    "## Univariate Analysis"
   ]
  },
  {
   "cell_type": "markdown",
   "metadata": {},
   "source": [
    "### **timestamp**"
   ]
  },
  {
   "cell_type": "code",
   "execution_count": null,
   "metadata": {},
   "outputs": [],
   "source": [
    "%matplotlib inline\n",
    "fig,ax = plt.subplots(figsize=(16,6))\n",
    "ax.ticklabel_format(style ='Plain')\n",
    "plt.hist(data['timestamp'], bins= 50,edgecolor='black',color='grey');\n",
    "plt.xlabel('timestamp',fontsize=18)\n",
    "plt.ylabel('count',fontsize=18)\n",
    "ax.tick_params(labelsize=14)\n",
    "plt.title(\"Count of 'timestamp' \",fontsize=20)\n",
    "ax.ticklabel_format(useOffset=False)\n",
    "plt.grid()\n",
    "plt.ioff()"
   ]
  },
  {
   "cell_type": "code",
   "execution_count": null,
   "metadata": {},
   "outputs": [],
   "source": [
    "%matplotlib inline\n",
    "sns.set_style('ticks')\n",
    "fig, ax = plt.subplots()\n",
    "fig.set_size_inches(11.7, 8.27)\n",
    "sns.distplot(data['timestamp'], color='#2f3b39')\n",
    "plt.xlabel('PDF of timestamp')\n",
    "sns.despine()\n",
    "plt.show()"
   ]
  },
  {
   "cell_type": "code",
   "execution_count": null,
   "metadata": {},
   "outputs": [],
   "source": [
    "from datetime import datetime\n",
    "data['timestamp'] = pd.to_datetime(data['timestamp'], unit='ms',origin='2017-1-1')\n",
    "data['month']=(data.timestamp.dt.month)\n",
    "data['day']=(data.timestamp.dt.day)\n",
    "data=data.drop(columns=['timestamp'])"
   ]
  },
  {
   "cell_type": "code",
   "execution_count": null,
   "metadata": {},
   "outputs": [],
   "source": [
    "#calculating total fare amount values at each percntile 90,91,92,93,94,95,96,97,98,99,100\n",
    "for i in range(90,100):\n",
    "    var = data[\"timestamp\"].values\n",
    "    var = np.sort(var,axis = None)\n",
    "    print(\"{} percentile value is {}\".format(i,var[int(len(var)*(float(i)/100))]))\n",
    "print(\"100 percentile value is \",var[-1])"
   ]
  },
  {
   "cell_type": "markdown",
   "metadata": {},
   "source": [
    "### **user_id**"
   ]
  },
  {
   "cell_type": "code",
   "execution_count": null,
   "metadata": {},
   "outputs": [],
   "source": [
    "print(\"Total number of unique user_id:\",len((data.user_id).unique()))"
   ]
  },
  {
   "cell_type": "code",
   "execution_count": null,
   "metadata": {},
   "outputs": [],
   "source": [
    "#creating figure,axex,title&labels\n",
    "fig = plt.figure()\n",
    "\n",
    "\n",
    "plt.ylabel('No of User_Ids')\n",
    "plt.title('unique user_ids Vs total user_ids')\n",
    "plt.xticks([10,10.5],['unique user_id','Total user_id'])\n",
    "#creating bar plots\n",
    "plt.bar(10,393656, color = 'black', width = 0.25,alpha=0.5,label='unique user_id')\n",
    "plt.bar(10.25,101230332, color = 'orange', width = 0.25,alpha=0.6,label='Total user_id')\n",
    "plt.legend()\n",
    "plt.show()"
   ]
  },
  {
   "cell_type": "code",
   "execution_count": null,
   "metadata": {},
   "outputs": [],
   "source": [
    "temp = pd.DataFrame(data.groupby('user_id')['answered_correctly'].agg(lambda x: x.eq(1).sum())).reset_index()\n"
   ]
  },
  {
   "cell_type": "code",
   "execution_count": null,
   "metadata": {},
   "outputs": [],
   "source": [
    "temp"
   ]
  },
  {
   "cell_type": "code",
   "execution_count": null,
   "metadata": {},
   "outputs": [],
   "source": []
  },
  {
   "cell_type": "code",
   "execution_count": null,
   "metadata": {},
   "outputs": [],
   "source": [
    "top_user = temp.sort_values(['answered_correctly'], ascending=False).head(25)\n",
    "top_user.head()"
   ]
  },
  {
   "cell_type": "code",
   "execution_count": null,
   "metadata": {},
   "outputs": [],
   "source": [
    "plt.figure(figsize=(15, 15))\n",
    "sns.barplot(x='user_id', y= 'answered_correctly', data= top_user,palette=\"Blues\")\n",
    "plt.title(f'Top {25} the most active users', fontsize=14)"
   ]
  },
  {
   "cell_type": "code",
   "execution_count": null,
   "metadata": {},
   "outputs": [],
   "source": [
    "f,ax=plt.subplots(1,2,figsize=(18,8))\n",
    "data['content_type_id'].value_counts().plot.pie(explode=[0,0.1],autopct='%1.1f%%',ax=ax[0],shadow=True)\n",
    "ax[0].set_title('Percentage content_type_id Distribution')\n",
    "ax[0].set_ylabel('Count')\n",
    "ax[1].ticklabel_format(style ='Plain')\n",
    "sns.countplot('content_type_id',data=data,ax=ax[1],order=data['content_type_id'].value_counts().index)\n",
    "ax[1].set_title('Count of content_type_id')\n",
    "plt.show()"
   ]
  },
  {
   "cell_type": "code",
   "execution_count": null,
   "metadata": {},
   "outputs": [],
   "source": [
    "data.task_container_id.value_counts()"
   ]
  },
  {
   "cell_type": "code",
   "execution_count": null,
   "metadata": {},
   "outputs": [],
   "source": [
    "data.user_answer.value_counts()"
   ]
  },
  {
   "cell_type": "code",
   "execution_count": null,
   "metadata": {},
   "outputs": [],
   "source": [
    "f,ax=plt.subplots(1,2,figsize=(18,8))\n",
    "train['user_answer'].value_counts().plot.pie(explode=[0,0.1,0.1,0.1,0.1],autopct='%1.1f%%',ax=ax[0],shadow=True)\n",
    "ax[0].set_title('Percentage user_answer Distribution')\n",
    "ax[0].set_ylabel('Count')\n",
    "sns.countplot('user_answer',data=train,ax=ax[1],order=train['user_answer'].value_counts().index)\n",
    "ax[1].set_title('Count of user_answer')\n",
    "plt.show()"
   ]
  },
  {
   "cell_type": "code",
   "execution_count": null,
   "metadata": {},
   "outputs": [],
   "source": [
    "N = 25 # number of users\n",
    "\n",
    "user_freq = data['user_id'].value_counts().reset_index()\n",
    "user_freq.columns = [\n",
    "    'user_id', \n",
    "    'count'\n",
    "]\n",
    "\n",
    "# Add ' - ' to convert user_id to str and not sort\n",
    "user_freq['user_id'] = user_freq['user_id'].astype(str) + ' - '\n",
    "user_freq = user_freq.sort_values(['count'], ascending=False).head(N)\n",
    "\n",
    "plt.figure(figsize=(15, 15))\n",
    "sns.barplot(x='count', y='user_id', data=user_freq,palette=\"Greys\")\n",
    "plt.title(f'Top {N} the most active users', fontsize=14)"
   ]
  },
  {
   "cell_type": "code",
   "execution_count": null,
   "metadata": {},
   "outputs": [],
   "source": [
    "ds = train['user_id'].value_counts().reset_index()\n",
    "ds.columns = ['user_id', 'count']\n",
    "ds['user_id'] = ds['user_id'].astype(str) + '-'\n",
    "ds = ds.sort_values(['count'])\n",
    "top_40 = ds.tail(40)\n",
    "\n",
    "\n",
    "fig,ax = plt.subplots(figsize=(12,8))\n",
    "sns.barplot(top_40['count'],top_40['user_id'])"
   ]
  },
  {
   "cell_type": "code",
   "execution_count": null,
   "metadata": {},
   "outputs": [],
   "source": [
    "%matplotlib inline\n",
    "sns.set_style('ticks')\n",
    "fig, ax = plt.subplots()\n",
    "fig.set_size_inches(11.7, 8.27)\n",
    "sns.distplot(list(data['user_id']), color='#2f3b39')\n",
    "plt.xlabel('PDF of user_id')\n",
    "sns.despine()\n",
    "plt.show()"
   ]
  },
  {
   "cell_type": "code",
   "execution_count": null,
   "metadata": {},
   "outputs": [],
   "source": [
    "\n",
    "%matplotlib inline\n",
    "sns.set_style('ticks')\n",
    "fig, ax = plt.subplots()\n",
    "fig.set_size_inches(11.7, 8.27)\n",
    "sns.distplot(list(data['content_id']), color='#16A085')\n",
    "plt.xlabel('PDF of conten_id')\n",
    "sns.despine()\n",
    "plt.show()"
   ]
  },
  {
   "cell_type": "code",
   "execution_count": null,
   "metadata": {},
   "outputs": [],
   "source": [
    "plt.boxplot(data['content_id'])\n",
    "plt.ylabel('content_id')\n",
    "plt.show()"
   ]
  },
  {
   "cell_type": "code",
   "execution_count": null,
   "metadata": {},
   "outputs": [],
   "source": [
    "temp = pd.DataFrame(data.groupby('user_id')['answered_correctly'].agg(lambda x: x.eq(1).sum())).reset_index()"
   ]
  },
  {
   "cell_type": "code",
   "execution_count": null,
   "metadata": {},
   "outputs": [],
   "source": [
    "temp.sort_"
   ]
  },
  {
   "cell_type": "code",
   "execution_count": null,
   "metadata": {},
   "outputs": [],
   "source": [
    "data['content_type_id'].value_counts().plot(kind='bar',color=['black','red'],alpha=0.5)"
   ]
  },
  {
   "cell_type": "code",
   "execution_count": null,
   "metadata": {},
   "outputs": [],
   "source": [
    "data['answered_correctly'].value_counts().plot(kind='bar',color=['black','red','yellow'],alpha=0.5)"
   ]
  },
  {
   "cell_type": "markdown",
   "metadata": {},
   "source": [
    "<a id=\"1\"></a>\n",
    "<h2 style='background:black; border:0; color:white'><center>2. lectures.csv<center><h2>"
   ]
  },
  {
   "cell_type": "code",
   "execution_count": null,
   "metadata": {},
   "outputs": [],
   "source": [
    "lectures = pd.read_csv(\"../input/riiid-test-answer-prediction/lectures.csv\")\n",
    "lectures.head(10)"
   ]
  },
  {
   "cell_type": "code",
   "execution_count": null,
   "metadata": {},
   "outputs": [],
   "source": [
    "lectures.info()"
   ]
  },
  {
   "cell_type": "markdown",
   "metadata": {},
   "source": [
    "<a id=\"1\"></a>\n",
    "<h2 style='background:black; border:0; color:white'><center>3. questions.csv<center><h2>"
   ]
  },
  {
   "cell_type": "code",
   "execution_count": null,
   "metadata": {},
   "outputs": [],
   "source": [
    "questions = pd.read_csv(\"../input/riiid-test-answer-prediction/questions.csv\")\n",
    "questions.head(10)"
   ]
  },
  {
   "cell_type": "code",
   "execution_count": null,
   "metadata": {},
   "outputs": [],
   "source": [
    "questions.info()"
   ]
  },
  {
   "cell_type": "code",
   "execution_count": null,
   "metadata": {},
   "outputs": [],
   "source": [
    "questions.loc[questions['tags'] == '134']"
   ]
  },
  {
   "cell_type": "code",
   "execution_count": null,
   "metadata": {},
   "outputs": [],
   "source": [
    "print(\"Total number of unique user_id:\",((questions.part).unique()))"
   ]
  },
  {
   "cell_type": "code",
   "execution_count": null,
   "metadata": {},
   "outputs": [],
   "source": [
    "print(\"Total number of unique user_id:\",((lectures.tag).unique()))"
   ]
  },
  {
   "cell_type": "code",
   "execution_count": null,
   "metadata": {},
   "outputs": [],
   "source": [
    "import math\n",
    "data_log = [math.log(i) for i in list(data['timestamp']) if i>0]"
   ]
  },
  {
   "cell_type": "code",
   "execution_count": null,
   "metadata": {},
   "outputs": [],
   "source": [
    "sns.kdeplot(data= data_log)"
   ]
  },
  {
   "cell_type": "code",
   "execution_count": null,
   "metadata": {},
   "outputs": [],
   "source": []
  }
 ],
 "metadata": {
  "kernelspec": {
   "display_name": "Python 3",
   "language": "python",
   "name": "python3"
  },
  "language_info": {
   "codemirror_mode": {
    "name": "ipython",
    "version": 3
   },
   "file_extension": ".py",
   "mimetype": "text/x-python",
   "name": "python",
   "nbconvert_exporter": "python",
   "pygments_lexer": "ipython3",
   "version": "3.7.5"
  }
 },
 "nbformat": 4,
 "nbformat_minor": 4
}
