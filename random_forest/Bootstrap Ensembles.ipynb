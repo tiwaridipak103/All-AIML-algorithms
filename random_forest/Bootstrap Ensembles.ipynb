{
 "cells": [
  {
   "cell_type": "markdown",
   "metadata": {
    "id": "3sNKZq4XrXQh"
   },
   "source": [
    "# <font color='red'><b>Bootstrap assignment</b> </font>"
   ]
  },
  {
   "cell_type": "markdown",
   "metadata": {
    "id": "RAHap1Z3FZC-"
   },
   "source": [
    "<b>There will be some functions that start with the word \"grader\" ex: grader_sampples(), grader_30().. etc, you should not change those function definition.\n",
    "\n",
    "Every Grader function has to return True.</b>"
   ]
  },
  {
   "cell_type": "markdown",
   "metadata": {
    "id": "cuxBq_bvrwh2"
   },
   "source": [
    "<font color='blue'> <b>Importing packages</b> </font>"
   ]
  },
  {
   "cell_type": "code",
   "execution_count": 1,
   "metadata": {
    "id": "m6ag91ijrQOs"
   },
   "outputs": [],
   "source": [
    "import numpy as np # importing numpy for numerical computation\n",
    "from sklearn.datasets import load_boston # here we are using sklearn's boston dataset\n",
    "from sklearn.metrics import mean_squared_error # importing mean_squared_error metric\n",
    "from sklearn.tree import DecisionTreeRegressor\n",
    "\n",
    "import numpy\n",
    "from pandas import read_csv\n",
    "from sklearn.utils import resample\n",
    "from sklearn.metrics import accuracy_score\n",
    "from matplotlib import pyplot\n",
    "import statistics"
   ]
  },
  {
   "cell_type": "code",
   "execution_count": 23,
   "metadata": {
    "id": "CcHOsONTt1K_"
   },
   "outputs": [],
   "source": [
    "boston = load_boston()\n",
    "x=boston.data #independent variables\n",
    "y=boston.target #target variable"
   ]
  },
  {
   "cell_type": "code",
   "execution_count": 24,
   "metadata": {
    "colab": {
     "base_uri": "https://localhost:8080/"
    },
    "id": "pc1htEFYuLRj",
    "outputId": "bbef9195-defe-483d-de15-0822fec6fe96"
   },
   "outputs": [
    {
     "data": {
      "text/plain": [
       "(506, 13)"
      ]
     },
     "execution_count": 24,
     "metadata": {
      "tags": []
     },
     "output_type": "execute_result"
    }
   ],
   "source": [
    "x.shape"
   ]
  },
  {
   "cell_type": "markdown",
   "metadata": {
    "id": "AEa_HqRZloH4"
   },
   "source": [
    "## <font color='red'><b>Task 1</b></font>"
   ]
  },
  {
   "cell_type": "markdown",
   "metadata": {
    "id": "YQ5q8IxHNRk3"
   },
   "source": [
    "<font color='red'> <b>Step - 1</b></font>"
   ]
  },
  {
   "cell_type": "markdown",
   "metadata": {
    "id": "GJCFCaOzl7Mr"
   },
   "source": [
    "*  <font color='blue'><b>Creating samples</b></font><br>\n",
    "    <b> Randomly create 30 samples from the whole boston data points</b>\n",
    "    *  Creating each sample: Consider any random 303(60% of 506) data points from whole data set and then replicate any 203 points from the sampled points\n",
    "    \n",
    "     For better understanding of this procedure lets check this examples, assume we have 10 data points [1,2,3,4,5,6,7,8,9,10], first we take 6 data points randomly , consider we have selected [4, 5, 7, 8, 9, 3] now we will replicate 4 points from [4, 5, 7, 8, 9, 3], consder they are [5, 8, 3,7] so our final sample will be [4, 5, 7, 8, 9, 3, 5, 8, 3,7]\n",
    "* <font color='blue'><b> Create 30 samples </b></font>\n",
    "    *  Note that as a part of the Bagging when you are taking the random samples <b>make sure each of the sample will have different set of columns</b><br>\n",
    "Ex: Assume we have 10 columns[1 ,2 ,3 ,4 ,5 ,6 ,7 ,8 ,9 ,10] for the first sample we will select [3, 4, 5, 9, 1, 2] and for the second sample  [7, 9, 1, 4, 5, 6, 2] and so on...\n",
    "Make sure each sample will have atleast 3 feautres/columns/attributes"
   ]
  },
  {
   "cell_type": "markdown",
   "metadata": {
    "id": "zUqFEBSvNjCa"
   },
   "source": [
    "<font color='red'><b>Step - 2 </b></font>"
   ]
  },
  {
   "cell_type": "markdown",
   "metadata": {
    "id": "uqi9AhCYNq3Z"
   },
   "source": [
    "<font color='blue'><b>Building High Variance Models on each of the sample and finding train MSE value</b></font>"
   ]
  },
  {
   "cell_type": "markdown",
   "metadata": {
    "id": "-lLBnZHXOFln"
   },
   "source": [
    "*  Build a regression trees on each of 30 samples.\n",
    "*  Computed the predicted values of each data point(506 data points) in your corpus.\n",
    "*  Predicted house price of $i^{th}$ data point $y^{i}_{pred} =  \\frac{1}{30}\\sum_{k=1}^{30}(\\text{predicted value of } x^{i} \\text{ with } k^{th} \\text{ model})$\n",
    "*  Now calculate the $MSE =  \\frac{1}{506}\\sum_{i=1}^{506}(y^{i} - y^{i}_{pred})^{2}$"
   ]
  },
  {
   "cell_type": "markdown",
   "metadata": {
    "id": "Kls23JLnSN23"
   },
   "source": [
    "<font color='red'> <b>Step - 3 </b></font>"
   ]
  },
  {
   "cell_type": "markdown",
   "metadata": {
    "id": "rz2GchkGSWnh"
   },
   "source": [
    "*  <font color='blue'><b>Calculating the OOB score </b></font>"
   ]
  },
  {
   "cell_type": "markdown",
   "metadata": {
    "id": "DGHkVV2kSibm"
   },
   "source": [
    "*  Predicted house price of $i^{th}$ data point $y^{i}_{pred} =  \\frac{1}{k}\\sum_{\\text{k= model which was buit on samples not included } x^{i}}(\\text{predicted value of } x^{i} \\text{ with } k^{th} \\text{ model})$.\n",
    "*  Now calculate the $OOB Score =  \\frac{1}{506}\\sum_{i=1}^{506}(y^{i} - y^{i}_{pred})^{2}$."
   ]
  },
  {
   "cell_type": "markdown",
   "metadata": {
    "id": "RK860ocxTyoz"
   },
   "source": [
    "# <font color='red'><b>Task 2</b></font>"
   ]
  },
  {
   "cell_type": "markdown",
   "metadata": {
    "id": "1dme-N6TUCrY"
   },
   "source": [
    "*  <font color='blue'><b>Computing CI of OOB Score and Train MSE</b></font>\n",
    "  *   Repeat Task 1 for 35 times, and for each iteration store the Train MSE and OOB score </li>\n",
    "<li> After this we will have 35 Train MSE values and 35 OOB scores </li>\n",
    "<li> using these 35 values (assume like a sample) find the confidence intravels of MSE and OOB Score </li>\n",
    "<li> you need to report CI of MSE and CI of OOB Score </li>\n",
    "<li> Note: Refer the Central_Limit_theorem.ipynb to check how to find the confidence intravel</li>\n",
    "</ol>"
   ]
  },
  {
   "cell_type": "markdown",
   "metadata": {
    "id": "O6UcH1x9Uwrj"
   },
   "source": [
    "# <font color='red'><b>Task 3</b></font>"
   ]
  },
  {
   "cell_type": "markdown",
   "metadata": {
    "id": "bOC_AgsLU7OH"
   },
   "source": [
    "*  <font color='blue'><b>Given a single query point predict the price of house.</b></font>"
   ]
  },
  {
   "cell_type": "markdown",
   "metadata": {
    "id": "HYs5jSFdVILe"
   },
   "source": [
    "Consider xq= [0.18,20.0,5.00,0.0,0.421,5.60,72.2,7.95,7.0,30.0,19.1,372.13,18.60] \n",
    "Predict the house price for this point as mentioned in the step 2 of Task 1."
   ]
  },
  {
   "cell_type": "markdown",
   "metadata": {
    "id": "V2fHTdS_zpgG"
   },
   "source": [
    "# <font color='blue'> <b>Task - 1</b></font>"
   ]
  },
  {
   "cell_type": "markdown",
   "metadata": {
    "id": "e0yGBuryOwHz"
   },
   "source": [
    "<font color='blue'><b>Step - 1</b></font>"
   ]
  },
  {
   "cell_type": "markdown",
   "metadata": {
    "id": "lJXX8vf3z073"
   },
   "source": [
    "*  <font color='blue'> <b>Creating samples</b></font>"
   ]
  },
  {
   "cell_type": "markdown",
   "metadata": {
    "id": "CSVaWG1F4uCZ"
   },
   "source": [
    "<font color='Orange'><b>Algorithm</b></font>\n",
    "\n",
    "![alt text](https://i.imgur.com/BTVYXQ1.jpg/)"
   ]
  },
  {
   "cell_type": "markdown",
   "metadata": {
    "id": "f_oWoN97BhDY"
   },
   "source": [
    "*  <font color='blue'><b> Write code for generating samples</b></font>"
   ]
  },
  {
   "cell_type": "code",
   "execution_count": 5,
   "metadata": {
    "id": "Ph_6D2SDzz7F"
   },
   "outputs": [],
   "source": [
    "from random import sample \n",
    "def generating_samples(input_data, target_data):\n",
    "  indices = [i for i in range(input_data.shape[0])]\n",
    "  selecting_row= sample(indices,303)\n",
    "  replicating_row= sample(selecting_row,203)\n",
    "  tot_indices = selecting_row + replicating_row\n",
    "\n",
    "  selecting_row = np.array(selecting_row)\n",
    "  replicating_row = np.array(replicating_row)\n",
    "\n",
    "\n",
    "  found = 0\n",
    "  while found != 1:\n",
    "    random_num=random.randint(1,input_data.shape[1])\n",
    "    if random_num >3 :\n",
    "      found = 1\n",
    "    \n",
    "  selecting_column = np.random.choice(input_data.shape[1], random_num, replace=False)\n",
    "\n",
    "  sample_data = input_data[selecting_row[:, None],np.array(selecting_column)]\n",
    "\n",
    "  target_of_sample_data = target_data[selecting_row]\n",
    "\n",
    "  #replicating_data\n",
    "  replicated_sample_data = input_data[replicating_row[:, None],np.array(selecting_column)]\n",
    "  target_of_replicated_sample_data = target_data[replicating_row]\n",
    "\n",
    "  #concatinating data\n",
    "\n",
    "  final_sample_data = np.concatenate((sample_data, replicated_sample_data), axis=0)\n",
    "  final_target_data = np.concatenate((target_of_sample_data, target_of_replicated_sample_data), axis=0)\n",
    "\n",
    "\n",
    "  return final_sample_data, final_target_data ,selecting_row ,selecting_column , tot_indices\n",
    "\n"
   ]
  },
  {
   "cell_type": "markdown",
   "metadata": {
    "id": "MivEQFlm7iOg"
   },
   "source": [
    "<font color='cyan'> <b> Grader function - 1 </b> </fongt>"
   ]
  },
  {
   "cell_type": "code",
   "execution_count": 6,
   "metadata": {
    "colab": {
     "base_uri": "https://localhost:8080/"
    },
    "id": "AVvuhNzm7uld",
    "outputId": "7e6ef459-28b6-45be-8b64-87dd1cb2b4fe"
   },
   "outputs": [
    {
     "data": {
      "text/plain": [
       "True"
      ]
     },
     "execution_count": 6,
     "metadata": {
      "tags": []
     },
     "output_type": "execute_result"
    }
   ],
   "source": [
    "import random\n",
    "def grader_samples(a,b,c,d):\n",
    "    length = (len(a)==506  and len(b)==506)\n",
    "    sampled = (len(a)-len(set([str(i) for i in a]))==203)\n",
    "    rows_length = (len(c)==303)\n",
    "    column_length= (len(d)>=3)\n",
    "    assert(length and sampled and rows_length and column_length)\n",
    "    return True\n",
    "a,b,c,d,_ = generating_samples(x, y)\n",
    "grader_samples(a,b,c,d)"
   ]
  },
  {
   "cell_type": "markdown",
   "metadata": {
    "id": "b4LSsmn4Jn2_"
   },
   "source": [
    "*  <font color='blue'> <b>Create 30 samples </b>"
   ]
  },
  {
   "cell_type": "markdown",
   "metadata": {
    "id": "3ec7MN6sL2BZ"
   },
   "source": [
    "![alt text](https://i.imgur.com/p8eZaWL.jpg)"
   ]
  },
  {
   "cell_type": "code",
   "execution_count": 8,
   "metadata": {
    "id": "XXlKWjCcBvTk"
   },
   "outputs": [],
   "source": [
    "# Use generating_samples function to create 30 samples \n",
    "# store these created samples in a list\n",
    "list_input_data =[]\n",
    "list_output_data =[]\n",
    "list_selected_row= []\n",
    "list_selected_columns=[]\n",
    "list_tot_indices = []\n",
    "\n",
    "for i in range(30):\n",
    "  a,b,c,d,e = generating_samples(x, y)\n",
    "  list_input_data.append(a)\n",
    "  list_output_data.append(b)\n",
    "  list_selected_row.append(c)\n",
    "  list_selected_columns.append(d)\n",
    "  list_tot_indices.append(e)\n",
    "\n",
    "\n"
   ]
  },
  {
   "cell_type": "markdown",
   "metadata": {
    "id": "MXUz9VFiMQkh"
   },
   "source": [
    "<font color='cyan'> <b>Grader function - 2 </b></font>"
   ]
  },
  {
   "cell_type": "code",
   "execution_count": 9,
   "metadata": {
    "colab": {
     "base_uri": "https://localhost:8080/"
    },
    "id": "hCvIq8NuMWOC",
    "outputId": "d17ea9d1-4227-454d-dd6d-0f9a009c5101"
   },
   "outputs": [
    {
     "data": {
      "text/plain": [
       "True"
      ]
     },
     "execution_count": 9,
     "metadata": {
      "tags": []
     },
     "output_type": "execute_result"
    }
   ],
   "source": [
    "def grader_30(a):\n",
    "    assert(len(a)==30 and len(a[0])==506)\n",
    "    return True\n",
    "grader_30(list_input_data)"
   ]
  },
  {
   "cell_type": "markdown",
   "metadata": {
    "id": "whaHCPB0O8qF"
   },
   "source": [
    "<font color='red'><b>Step - 2 </b></font>"
   ]
  },
  {
   "cell_type": "markdown",
   "metadata": {
    "id": "XBy4zXSWPtU8"
   },
   "source": [
    "<font color='orange'><b>Flowchart for building tree</b></font>"
   ]
  },
  {
   "cell_type": "markdown",
   "metadata": {
    "id": "5xvH06HPQBdP"
   },
   "source": [
    "![alt text](https://i.imgur.com/pcXfSmp.png)"
   ]
  },
  {
   "cell_type": "markdown",
   "metadata": {
    "id": "WRwPO_uHQjul"
   },
   "source": [
    "*  <font color='blue'><b> Write code for building regression trees</b></font>"
   ]
  },
  {
   "cell_type": "code",
   "execution_count": 10,
   "metadata": {
    "id": "YWQp6tRwMthq"
   },
   "outputs": [],
   "source": [
    "models = []\n",
    "for i in range(len(list_input_data)):\n",
    "  models.append(f'model_{i}')\n",
    "\n",
    "list_of_all_model = []\n",
    "for i in range(len(list_input_data)):\n",
    "  models[i] = DecisionTreeRegressor()\n",
    "  models[i].fit(list_input_data[i],list_output_data[i])\n",
    "\n",
    "  list_of_all_model.append(models[i])\n"
   ]
  },
  {
   "cell_type": "code",
   "execution_count": 11,
   "metadata": {
    "colab": {
     "base_uri": "https://localhost:8080/"
    },
    "id": "AC5WcBKDmOrr",
    "outputId": "cd0d4c16-55fd-48ac-c7c4-42e2a750fe89"
   },
   "outputs": [
    {
     "name": "stdout",
     "output_type": "stream",
     "text": [
      "30\n"
     ]
    }
   ],
   "source": [
    "print(len(list_of_all_model))"
   ]
  },
  {
   "cell_type": "markdown",
   "metadata": {
    "id": "21j8BKfAQ1U8"
   },
   "source": [
    "<font color='orange'><b>Flowchart for calculating MSE </b></font>"
   ]
  },
  {
   "cell_type": "markdown",
   "metadata": {
    "id": "8Q0mTBD2RBx_"
   },
   "source": [
    "![alt text](https://i.imgur.com/sPEE618.png)"
   ]
  },
  {
   "cell_type": "markdown",
   "metadata": {
    "id": "6e-UamlHRjPy"
   },
   "source": [
    "After getting predicted_y for each data point, we can use sklearns mean_squared_error to calculate the MSE between predicted_y and actual_y."
   ]
  },
  {
   "cell_type": "markdown",
   "metadata": {
    "id": "TnIMT7_oR312"
   },
   "source": [
    "*  <font color='blue'><b> Write code for calculating MSE</b></font>"
   ]
  },
  {
   "cell_type": "code",
   "execution_count": 12,
   "metadata": {
    "id": "qWhcvMRWRA9b"
   },
   "outputs": [],
   "source": [
    "pred_list = []\n",
    "for i in range(x.shape[0]):\n",
    "  sum = 0\n",
    "  for j in range(len(list_input_data)):\n",
    "    sum  = sum + list_of_all_model[j].predict(x[i,list_selected_columns[j]].reshape(1, -1))\n",
    "  avg_pred = sum/len(list_input_data)\n",
    "  pred_list.extend(avg_pred)\n"
   ]
  },
  {
   "cell_type": "code",
   "execution_count": 13,
   "metadata": {
    "colab": {
     "base_uri": "https://localhost:8080/"
    },
    "id": "1MmHjao9r1S9",
    "outputId": "26e62e5d-84b3-495c-bc35-49b1f1e37e15"
   },
   "outputs": [
    {
     "name": "stdout",
     "output_type": "stream",
     "text": [
      "1.97991391214073\n"
     ]
    }
   ],
   "source": [
    "error = 0\n",
    "for i in range(x.shape[0]):\n",
    "  error =error + pow((y[i]-pred_list[i]),2)\n",
    "MSE = error/x.shape[0]\n",
    "print(MSE)\n"
   ]
  },
  {
   "cell_type": "markdown",
   "metadata": {
    "id": "RuclPDMnSz8F"
   },
   "source": [
    "<font color='blue'><b>Step - 3 </b></font>"
   ]
  },
  {
   "cell_type": "markdown",
   "metadata": {
    "id": "ESb9FSIDTM5V"
   },
   "source": [
    "<font color='orange'><b>Flowchart for calculating OOB score</b></font>"
   ]
  },
  {
   "cell_type": "markdown",
   "metadata": {
    "id": "HB-d6NMETbd9"
   },
   "source": [
    "![alt text](https://i.imgur.com/95S5Mtm.png)"
   ]
  },
  {
   "cell_type": "markdown",
   "metadata": {
    "id": "WW3GOcFzTqbt"
   },
   "source": [
    "Now calculate the $OOB Score =  \\frac{1}{506}\\sum_{i=1}^{506}(y^{i} - y^{i}_{pred})^{2}$."
   ]
  },
  {
   "cell_type": "markdown",
   "metadata": {
    "id": "zBqcS03pUYSZ"
   },
   "source": [
    "*  <font color='blue'><b> Write code for calculating OOB score </b></font>"
   ]
  },
  {
   "cell_type": "code",
   "execution_count": 14,
   "metadata": {
    "id": "Fog_6DNdS-h_"
   },
   "outputs": [],
   "source": [
    "pred_list = []\n",
    "for i in range(x.shape[0]):\n",
    "  sum = 0\n",
    "  count = 0\n",
    "  for j in range(len(list_input_data)):\n",
    "    if i not in list_tot_indices[j]:\n",
    "      sum  = sum + list_of_all_model[j].predict(x[i,list_selected_columns[j]].reshape(1, -1))\n",
    "      count += 1\n",
    "  avg_pred = sum/count\n",
    "  pred_list.extend(avg_pred)"
   ]
  },
  {
   "cell_type": "code",
   "execution_count": 15,
   "metadata": {
    "colab": {
     "base_uri": "https://localhost:8080/"
    },
    "id": "lfsvV04Gzjv-",
    "outputId": "4d84daaf-3741-40fd-ecfb-192e030eff5d"
   },
   "outputs": [
    {
     "name": "stdout",
     "output_type": "stream",
     "text": [
      "12.41180927547486\n"
     ]
    }
   ],
   "source": [
    "error = 0\n",
    "for i in range(x.shape[0]):\n",
    "  error =error + pow((y[i]-pred_list[i]),2)\n",
    "OOB_score = error/x.shape[0]\n",
    "print(OOB_score)"
   ]
  },
  {
   "cell_type": "markdown",
   "metadata": {
    "id": "7HMd1m8A_BPg"
   },
   "source": [
    "##Observation\n",
    "\n",
    "\n",
    "1.   MSE value is found to be 2.47 which means on an average the square error between the 'y_actual' and 'y_predicted' for any datapoints is 2.47 for running all datapoints for  epoach. As we know for model ,if MSE value 0 then it is found to be the best model . MSE does not have any range, so far the value can go, we do not know but if the value is close to zero ,then we can somehow can say how model is performing.\n",
    "2.    OOB value is found to be 15.24 which means on an average the square error between the 'y_actual' and 'y_predicted' for any datapoints for model which was buit on samples not included xi is 15.24 for running all datapoints for  epoach.\n",
    "\n"
   ]
  },
  {
   "cell_type": "markdown",
   "metadata": {
    "id": "sbuiwX3OUjUI"
   },
   "source": [
    "# <font color='blue'><b>Task 2</b></font>"
   ]
  },
  {
   "cell_type": "code",
   "execution_count": 16,
   "metadata": {
    "id": "ceW5-D88Uswi"
   },
   "outputs": [],
   "source": [
    "list_MSE = []\n",
    "list_OOB = []\n",
    "for i in range(35):\n",
    "\n",
    "  \n",
    "  list_input_data =[]\n",
    "  list_output_data =[]\n",
    "  list_selected_row= []\n",
    "  list_selected_columns=[]\n",
    "  list_tot_indices = []\n",
    "\n",
    "  for i in range(30):\n",
    "    a,b,c,d,e = generating_samples(x, y)\n",
    "    list_input_data.append(a)\n",
    "    list_output_data.append(b)\n",
    "    list_selected_row.append(c)\n",
    "    list_selected_columns.append(d)\n",
    "    list_tot_indices.append(e)\n",
    "\n",
    "\n",
    "  models = []\n",
    "  for i in range(len(list_input_data)):\n",
    "    models.append(f'model_{i}')\n",
    "\n",
    "  list_of_all_model = []\n",
    "  for i in range(len(list_input_data)):\n",
    "    models[i] = DecisionTreeRegressor()\n",
    "    models[i].fit(list_input_data[i],list_output_data[i])\n",
    "    list_of_all_model.append(models[i])\n",
    "\n",
    "\n",
    "\n",
    "  pred_list = []\n",
    "  for i in range(x.shape[0]):\n",
    "    sum = 0\n",
    "    for j in range(len(list_input_data)):\n",
    "      sum  = sum + list_of_all_model[j].predict(x[i,list_selected_columns[j]].reshape(1, -1))\n",
    "    avg_pred = sum/len(list_input_data)\n",
    "    pred_list.extend(avg_pred)\n",
    "\n",
    "  error = 0\n",
    "  for i in range(x.shape[0]):\n",
    "    error =error + pow((y[i]-pred_list[i]),2)\n",
    "  MSE = error/x.shape[0]\n",
    "\n",
    "  list_MSE.append(MSE)\n",
    "\n",
    "  pred_list = []\n",
    "  for i in range(x.shape[0]):\n",
    "    sum = 0\n",
    "    count = 0\n",
    "    for j in range(len(list_input_data)):\n",
    "      if i not in list_tot_indices[j]:\n",
    "        sum  = sum + list_of_all_model[j].predict(x[i,list_selected_columns[j]].reshape(1, -1))\n",
    "        count += 1\n",
    "    avg_pred = sum/count\n",
    "    pred_list.extend(avg_pred)\n",
    "\n",
    "  error = 0\n",
    "  for i in range(x.shape[0]):\n",
    "    error =error + pow((y[i]-pred_list[i]),2)\n",
    "  OOB_score = error/x.shape[0]\n",
    "\n",
    "  list_OOB.append(OOB_score)\n",
    "\n",
    "  \n"
   ]
  },
  {
   "cell_type": "code",
   "execution_count": 17,
   "metadata": {
    "colab": {
     "base_uri": "https://localhost:8080/",
     "height": 298
    },
    "id": "W5nMHfrYgoSv",
    "outputId": "b034e6cd-7129-4306-ed43-8de31a774767"
   },
   "outputs": [
    {
     "data": {
      "image/png": "[encoded data removed]",
      "text/plain": [
       "<Figure size 432x288 with 1 Axes>"
      ]
     },
     "metadata": {
      "needs_background": "light",
      "tags": []
     },
     "output_type": "display_data"
    },
    {
     "name": "stdout",
     "output_type": "stream",
     "text": [
      "95.0 confidence interval 2.2 and 2.4\n"
     ]
    }
   ],
   "source": [
    "#code source -->from Applied AI lecture \"Confidence interval using bootstrapping\"\n",
    "\n",
    "x = numpy.array(list_MSE)\n",
    "\n",
    "# configure bootstrap\n",
    "n_iterations = 1000\n",
    "n_size = int(len(x))\n",
    "\n",
    "# run bootstrap\n",
    "medians = list()\n",
    "for i in range(n_iterations):\n",
    "    # prepare train and test sets\n",
    "    s = resample(x, n_samples=n_size);\n",
    "    m = numpy.median(s);\n",
    "    #print(m)\n",
    "    medians.append(m)\n",
    "\n",
    "# plot scores\n",
    "pyplot.hist(medians)\n",
    "pyplot.title(\"Histogram plot of MSE\")\n",
    "pyplot.show()\n",
    "\n",
    "# confidence intervals\n",
    "alpha = 0.95\n",
    "p = ((1.0-alpha)/2.0) * 100\n",
    "lower =  numpy.percentile(medians, p)\n",
    "\n",
    "p = (alpha+((1.0-alpha)/2.0)) * 100\n",
    "upper =  numpy.percentile(medians, p)\n",
    "print('%.1f confidence interval %.1f and %.1f' % (alpha*100, lower, upper))"
   ]
  },
  {
   "cell_type": "code",
   "execution_count": 18,
   "metadata": {
    "colab": {
     "base_uri": "https://localhost:8080/",
     "height": 298
    },
    "id": "IHA2qdEohUCe",
    "outputId": "bc0587fe-f5f8-4fc1-e978-bac8ae6d54d7"
   },
   "outputs": [
    {
     "data": {
      "image/png": "[encoded data removed]",
      "text/plain": [
       "<Figure size 432x288 with 1 Axes>"
      ]
     },
     "metadata": {
      "needs_background": "light",
      "tags": []
     },
     "output_type": "display_data"
    },
    {
     "name": "stdout",
     "output_type": "stream",
     "text": [
      "95.0 confidence interval 12.6 and 14.0\n"
     ]
    }
   ],
   "source": [
    "#code source -->from Applied AI lecture \"Confidence interval using bootstrapping\"\n",
    "x = numpy.array(list_OOB)\n",
    "\n",
    "# configure bootstrap\n",
    "n_iterations = 1000\n",
    "n_size = int(len(x))\n",
    "\n",
    "# run bootstrap\n",
    "medians = list()\n",
    "for i in range(n_iterations):\n",
    "    # prepare train and test sets\n",
    "    s = resample(x, n_samples=n_size);\n",
    "    m = numpy.median(s);\n",
    "    #print(m)\n",
    "    medians.append(m)\n",
    "\n",
    "# plot scores\n",
    "pyplot.hist(medians)\n",
    "pyplot.title(\"Histogram plot of OOB\")\n",
    "pyplot.show()\n",
    "\n",
    "# confidence intervals\n",
    "alpha = 0.95\n",
    "p = ((1.0-alpha)/2.0) * 100\n",
    "lower =  numpy.percentile(medians, p)\n",
    "\n",
    "p = (alpha+((1.0-alpha)/2.0)) * 100\n",
    "upper =  numpy.percentile(medians, p)\n",
    "print('%.1f confidence interval %.1f and %.1f' % (alpha*100, lower, upper))"
   ]
  },
  {
   "cell_type": "markdown",
   "metadata": {
    "id": "U7yNCZopPvDT"
   },
   "source": [
    "##Observation\n",
    "\n",
    "1.   Confidence interval of MSE afer running model for 35 time have range between 2.2 to 2.4 with probabilty of 95%. It means there the 95% chance that the average mean square found to be in the range between 2.2 to 2.4.\n",
    "2.  Confidence interval of OOB afer running model for 35 time have range between 13.1 to 13.8 with probabilty of 95%. It means there the 95% chance that the average mean square found to be in the range between 13.1 to 13.8.\n",
    "\n"
   ]
  },
  {
   "cell_type": "markdown",
   "metadata": {
    "id": "jKTnJdiBVS_e"
   },
   "source": [
    "# <font color='blue'><b>Task 3</b></font>"
   ]
  },
  {
   "cell_type": "markdown",
   "metadata": {
    "id": "eXxrvZqHV1Fr"
   },
   "source": [
    "<font color='orange'><b>Flowchart for Task 3</b></font>"
   ]
  },
  {
   "cell_type": "markdown",
   "metadata": {
    "id": "NyjwEJ62V6a6"
   },
   "source": [
    "<b>Hint: </b> We created 30 models by using 30 samples in TASK-1. Here, we need send query point \"xq\"  to 30 models and perform the regression on the output generated by 30 models."
   ]
  },
  {
   "cell_type": "markdown",
   "metadata": {
    "id": "0emSwLL7VurD"
   },
   "source": [
    "![alt text](https://i.imgur.com/Y5cNhQk.png)"
   ]
  },
  {
   "cell_type": "markdown",
   "metadata": {
    "id": "29hjwKlWWDfo"
   },
   "source": [
    "*  <font color='blue'><b> Write code for TASK 3 </b></font>"
   ]
  },
  {
   "cell_type": "code",
   "execution_count": 19,
   "metadata": {
    "id": "YF9xcvG7nJNP"
   },
   "outputs": [],
   "source": [
    "xq= np.array([0.18,20.0,5.00,0.0,0.421,5.60,72.2,7.95,7.0,30.0,19.1,372.13,18.60])"
   ]
  },
  {
   "cell_type": "code",
   "execution_count": 26,
   "metadata": {
    "colab": {
     "base_uri": "https://localhost:8080/"
    },
    "id": "QJJ2WwKLwJYn",
    "outputId": "5a6e18d8-a295-44e6-9c38-6b2bcda3f1ed"
   },
   "outputs": [
    {
     "name": "stdout",
     "output_type": "stream",
     "text": [
      "The predicted house price for the given query point using all models is 18.5\n"
     ]
    }
   ],
   "source": [
    "\n",
    "pred_with_all_model = []\n",
    "for j in range(len(list_input_data)):\n",
    "  pred = list_of_all_model[j].predict(xq[list_selected_columns[j]].reshape(1, -1))\n",
    "  pred_with_all_model.extend(pred)\n",
    "res = statistics.median(pred_with_all_model)   \n",
    "\n",
    "\n",
    "print(f'The predicted house price for the given query point using all models is {res}')\n",
    " "
   ]
  },
  {
   "cell_type": "code",
   "execution_count": 28,
   "metadata": {
    "colab": {
     "base_uri": "https://localhost:8080/"
    },
    "id": "Q3MJnBlDzvDq",
    "outputId": "92c466af-1854-4edc-86a9-7ab0a16bf277"
   },
   "outputs": [
    {
     "name": "stdout",
     "output_type": "stream",
     "text": [
      "The predicted house price for the given query point using model which was buit on samples not included xq is 18.5\n"
     ]
    }
   ],
   "source": [
    "#model which was buit on samples not included xi\n",
    "pred_with_all_model = []\n",
    "for j in range(len(list_input_data)):\n",
    "  if i not in list_tot_indices[j]:\n",
    "    pred = list_of_all_model[j].predict(xq[list_selected_columns[j]].reshape(1, -1))\n",
    "    pred_with_all_model.extend(pred)\n",
    "res = statistics.median(pred_with_all_model)     \n",
    "\n",
    "print(f'The predicted house price for the given query point using model which was buit on samples not included xq is {res}')\n",
    " "
   ]
  },
  {
   "cell_type": "markdown",
   "metadata": {
    "id": "KWnV27viRCqZ"
   },
   "source": [
    "##Observation\n",
    "\n",
    "\n",
    "1. The predicted house price for given query point using both strategy i.e using MSE and OOB method gives the same result which is 18.5\n"
   ]
  }
 ],
 "metadata": {
  "colab": {
   "collapsed_sections": [],
   "name": "Bootstrap_assignment.ipynb",
   "provenance": []
  },
  "kernelspec": {
   "display_name": "Python 3",
   "language": "python",
   "name": "python3"
  },
  "language_info": {
   "codemirror_mode": {
    "name": "ipython",
    "version": 3
   },
   "file_extension": ".py",
   "mimetype": "text/x-python",
   "name": "python",
   "nbconvert_exporter": "python",
   "pygments_lexer": "ipython3",
   "version": "3.7.5"
  }
 },
 "nbformat": 4,
 "nbformat_minor": 1
}
