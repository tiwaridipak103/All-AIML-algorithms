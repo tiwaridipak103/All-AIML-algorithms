{
  "nbformat": 4,
  "nbformat_minor": 0,
  "metadata": {
    "colab": {
      "provenance": []
    },
    "kernelspec": {
      "name": "python3",
      "display_name": "Python 3"
    },
    "language_info": {
      "name": "python"
    }
  },
  "cells": [
    {
      "cell_type": "markdown",
      "source": [
        "# **Lmfit Implementation**"
      ],
      "metadata": {
        "id": "VcEzHiX8Au1r"
      }
    },
    {
      "cell_type": "code",
      "source": [
        "!pip install lmfit\n",
        "!apt-get install openjdk-8-jdk-headless -qq > /dev/null\n",
        "!wget -q http://archive.apache.org/dist/spark/spark-3.1.1/spark-3.1.1-bin-hadoop3.2.tgz\n",
        "!tar xf spark-3.1.1-bin-hadoop3.2.tgz\n",
        "!pip install -q findspark\n",
        "\n",
        "import os\n",
        "os.environ[\"JAVA_HOME\"] = \"/usr/lib/jvm/java-8-openjdk-amd64\"\n",
        "os.environ[\"SPARK_HOME\"] = \"/content/spark-3.1.1-bin-hadoop3.2\"\n",
        "import findspark\n",
        "findspark.init()\n",
        "\n",
        "from pyspark import SparkConf,SparkContext\n",
        "from pyspark.sql import SparkSession\n",
        "from pyspark.sql.functions import pandas_udf, PandasUDFType\n",
        "\n",
        "spark = SparkSession.builder \\\n",
        "        .master(\"local[*]\") \\\n",
        "        .appName(\"Spark RDD Application\") \\\n",
        "        .config(conf = SparkConf()) \\\n",
        "        .getOrCreate()\n",
        "\n",
        "spark"
      ],
      "metadata": {
        "colab": {
          "base_uri": "https://localhost:8080/",
          "height": 323
        },
        "id": "HneSfOicwx_E",
        "outputId": "dcd793ac-d546-4e6c-d070-fb75cb24131e"
      },
      "execution_count": null,
      "outputs": [
        {
          "output_type": "stream",
          "name": "stdout",
          "text": [
            "Requirement already satisfied: lmfit in /usr/local/lib/python3.10/dist-packages (1.2.2)\n",
            "Requirement already satisfied: asteval>=0.9.28 in /usr/local/lib/python3.10/dist-packages (from lmfit) (0.9.31)\n",
            "Requirement already satisfied: numpy>=1.19 in /usr/local/lib/python3.10/dist-packages (from lmfit) (1.23.5)\n",
            "Requirement already satisfied: scipy>=1.6 in /usr/local/lib/python3.10/dist-packages (from lmfit) (1.11.4)\n",
            "Requirement already satisfied: uncertainties>=3.1.4 in /usr/local/lib/python3.10/dist-packages (from lmfit) (3.1.7)\n",
            "Requirement already satisfied: future in /usr/local/lib/python3.10/dist-packages (from uncertainties>=3.1.4->lmfit) (0.18.3)\n"
          ]
        },
        {
          "output_type": "execute_result",
          "data": {
            "text/plain": [
              "<pyspark.sql.session.SparkSession at 0x78fe7c130ac0>"
            ],
            "text/html": [
              "\n",
              "            <div>\n",
              "                <p><b>SparkSession - in-memory</b></p>\n",
              "                \n",
              "        <div>\n",
              "            <p><b>SparkContext</b></p>\n",
              "\n",
              "            <p><a href=\"http://33da9c550546:4040\">Spark UI</a></p>\n",
              "\n",
              "            <dl>\n",
              "              <dt>Version</dt>\n",
              "                <dd><code>v3.1.1</code></dd>\n",
              "              <dt>Master</dt>\n",
              "                <dd><code>local[*]</code></dd>\n",
              "              <dt>AppName</dt>\n",
              "                <dd><code>Spark RDD Application</code></dd>\n",
              "            </dl>\n",
              "        </div>\n",
              "        \n",
              "            </div>\n",
              "        "
            ]
          },
          "metadata": {},
          "execution_count": 1
        }
      ]
    },
    {
      "cell_type": "code",
      "source": [
        "# -*- coding: utf-8 -*-\n",
        "import numpy as np\n",
        "from scipy.optimize import curve_fit, minimize\n",
        "import pandas as pd\n",
        "import math\n",
        "\n",
        "from pyspark import SparkContext\n",
        "from pyspark.sql import SQLContext\n",
        "from pyspark.sql.functions import pandas_udf, PandasUDFType\n",
        "from pyspark.sql.types import StructType, StructField, StringType,BooleanType\n",
        "from pyspark.sql import SparkSession\n",
        "import collections\n",
        "from pyspark.sql.functions import col\n",
        "\n",
        "\n",
        "from lmfit import Parameters , minimize, Minimizer\n",
        "from lmfit import Parameters , minimize, Minimizer\n",
        "\n",
        "# -*- coding: utf-8 -*-\n",
        "import numpy as np\n",
        "from scipy.optimize import curve_fit, minimize\n",
        "import pandas as pd\n",
        "import collections\n",
        "from pyspark.sql.functions import col, lit, when, greatest, least, exp, sqrt, abs\n",
        "from lmfit import Parameters , minimize, Minimizer\n",
        "from pyspark.sql import functions as f"
      ],
      "metadata": {
        "id": "GBqhRC9OyNnz"
      },
      "execution_count": null,
      "outputs": []
    },
    {
      "cell_type": "code",
      "source": [
        "#Creating dataframe\n",
        "name_1 = np.linspace(0.0, 5., 2000000)\n",
        "\n",
        "name_2 = np.linspace(0.0, 10., 2000000)\n",
        "\n",
        "name_3 = np.linspace(0.0, 15., 2000000)\n",
        "\n",
        "name_4 = np.linspace(0.0, 20., 2000000)\n",
        "\n",
        "name_5 = np.linspace(0.0, 25., 2000000)\n",
        "\n",
        "name_6 = np.linspace(0.0, 3., 2000000)\n",
        "\n",
        "name_7 = np.linspace(0.0, 6., 2000000)\n",
        "\n",
        "name_8 = np.linspace(0.0, 9., 2000000)\n",
        "\n",
        "name_9 = np.linspace(0.0, 5., 2000000)\n",
        "\n",
        "name_11 = np.linspace(0.0, 2., 2000000)\n",
        "\n",
        "name_12 = np.linspace(0.0, 4., 2000000)\n",
        "\n",
        "Y_act  = np.linspace(0.0, 10., 2000000)\n",
        "wgt  = np.linspace(0.0, 3., 2000000)\n",
        "\n",
        "group = ['group_name' for i in range(2000000)]\n",
        "\n",
        "df_data= pd.DataFrame({'name_1' : name_1 , 'name_2':name_2 , 'name_3':name_3 ,'name_4':name_4,'name_5':name_5,'name_6':name_6,\n",
        "                       'name_7':name_7,'name_8':name_8,'name_9':name_9,'name_11':name_11,'name_12':name_12,\n",
        "                       'Y_act':Y_act ,'wgt':wgt,'group':group })\n",
        "df_data_1 = spark.createDataFrame(df_data)"
      ],
      "metadata": {
        "colab": {
          "base_uri": "https://localhost:8080/"
        },
        "id": "mzHV3CDl1hJz",
        "outputId": "a82072f0-4699-4618-937c-5966b7f3e199"
      },
      "execution_count": null,
      "outputs": [
        {
          "output_type": "stream",
          "name": "stderr",
          "text": [
            "/content/spark-3.1.1-bin-hadoop3.2/python/pyspark/sql/pandas/conversion.py:331: FutureWarning: iteritems is deprecated and will be removed in a future version. Use .items instead.\n",
            "  for column, series in pdf.iteritems():\n"
          ]
        }
      ]
    },
    {
      "cell_type": "code",
      "source": [
        "name_10 = []\n",
        "string = ['f_1', 'f_2', 'f_3' , 'f_4' ,'f_5']\n",
        "for strs in string:\n",
        "    if strs == 'f_1':\n",
        "        name_10.extend(['f_1' for i in range(4)])\n",
        "    elif strs == 'f_2':\n",
        "        name_10.extend(['f_2' for i in range(4)])\n",
        "    elif strs == 'f_3':\n",
        "        name_10.extend(['f_3' for i in range(4)])\n",
        "    elif strs == 'f_4':\n",
        "        name_10.extend(['f_4' for i in range(4)])\n",
        "    else:\n",
        "        name_10.extend(['f_5' for i in range(4)])\n",
        "print(len(name_10))\n",
        "\n",
        "#################################################\n",
        "import random\n",
        "list1 = [i for i in range(1 , 3)]\n",
        "list2 = [i for i in range(3 , 5)]\n",
        "list3 = [i for i in range(2 , 4)]\n",
        "\n",
        "name_A = [random.choice(list1) for i in range(20)]\n",
        "name_B = [random.choice(list2) for i in range(20)]\n",
        "name_C = [random.choice(list3) for i in range(20)]\n",
        "\n",
        "#################################################\n",
        "\n",
        "PARAM_1 = ['ABC_'+str(i) for i in range(20)]\n",
        "value_1 = np.linspace(0.0, 25., 20)\n",
        "\n",
        "PARAM_2 = ['XYZ_'+str(i) for i in range(20)]\n",
        "value_2 = np.linspace(0.0, 50., 20)\n",
        "\n",
        "#################################################\n",
        "key = ['X'+str(i) for i in range(20)]\n",
        "\n",
        "################################################\n",
        "df_param= pd.DataFrame({'PARAM_1' : PARAM_1 ,'value_1' : value_1 , 'PARAM_2':PARAM_2 ,'value_2' : value_2 , 'name_10':name_10 ,\n",
        "                        'name_A':name_A,'name_B':name_B,'name_C':name_C,'key':key})\n",
        "df_param_1 = spark.createDataFrame(df_param)"
      ],
      "metadata": {
        "id": "ALioJeU03-Kn",
        "colab": {
          "base_uri": "https://localhost:8080/"
        },
        "outputId": "3b2a3172-3ce6-4e8f-ca35-e9a1ebe41d61"
      },
      "execution_count": null,
      "outputs": [
        {
          "output_type": "stream",
          "name": "stdout",
          "text": [
            "20\n"
          ]
        },
        {
          "output_type": "stream",
          "name": "stderr",
          "text": [
            "/content/spark-3.1.1-bin-hadoop3.2/python/pyspark/sql/pandas/conversion.py:331: FutureWarning: iteritems is deprecated and will be removed in a future version. Use .items instead.\n",
            "  for column, series in pdf.iteritems():\n"
          ]
        }
      ]
    },
    {
      "cell_type": "code",
      "source": [
        "def model_param(df):\n",
        "    import collections\n",
        "    dict_1 = {df['key'][i]:df['name_10'][i] for i in range(20)}\n",
        "    dict_2 = {df['key'][i]:[df['name_A'][i],df['name_B'][i],df['name_C'][i]] for i in range(20)}\n",
        "    dict_PM_1 = {df['PARAM_1'][i]:df['value_1'][i] for i in range(20)}\n",
        "    dict_PM_2 = {df['PARAM_2'][i]:df['value_2'][i] for i in range(20)}\n",
        "    dict_3 = {df['PARAM_1'][i]:df['key'][i] for i in range(20)}\n",
        "    dict_4 = {df['PARAM_2'][i]:df['key'][i] for i in range(20)}\n",
        "\n",
        "    pm_AY = Parameters()\n",
        "    pm_EY = Parameters()\n",
        "    for i in range(20):\n",
        "        pm_AY.add('ABC_'+str(i), value =dict_PM_1['ABC_'+str(i)])\n",
        "        pm_EY.add('XYZ_'+str(i), value =dict_PM_2['XYZ_'+str(i)])\n",
        "\n",
        "    PM_col = collections.namedtuple('all_col' , ['dict_1','dict_2','pm_AY','pm_EY','dict_3','dict_4'])\n",
        "    PM = PM_col(dict_1=dict_1,dict_2=dict_2,pm_AY=pm_AY,pm_EY=pm_EY,dict_3=dict_3,dict_4=dict_4)\n",
        "\n",
        "    return PM"
      ],
      "metadata": {
        "id": "uTegsz5i4BrG"
      },
      "execution_count": null,
      "outputs": []
    },
    {
      "cell_type": "code",
      "source": [
        "PM = model_param(df_param)"
      ],
      "metadata": {
        "id": "i02abFC34EBq"
      },
      "execution_count": null,
      "outputs": []
    },
    {
      "cell_type": "code",
      "source": [
        "def func_plin(f , x , a, b, c):\n",
        "    if f == 'f_1':\n",
        "        return np.maximum(0 , np.minimum(1 , (x-a)/(b-a)))\n",
        "    elif f == 'f_2':\n",
        "        return np.maximum(0 , np.minimum(1 , (x-a)/(b-c)))\n",
        "    elif f == 'f_3':\n",
        "        return np.maximum(0 , np.minimum(1 , (x-a)*(b-a)))\n",
        "    elif f == 'f_4':\n",
        "        return np.maximum(0 , np.minimum(1 , (x-a)*(b-c)))\n",
        "    elif f == 'f_5':\n",
        "        return np.maximum(0 , np.minimum(1 , (x-a)*(b-c)))\n",
        "    else:\n",
        "        return (1)\n",
        "\n",
        "##########################################################\n",
        "\n",
        "def model_func_fit(pm_EY_EST , PM  ,funcid , submod, df):\n",
        "    y_mod = model_func(pm_EY_EST , PM  ,funcid , submod, df)\n",
        "    er = y_mod - df['Y_act']\n",
        "    er = er * np.sqrt(np.abs(df['wgt']))\n",
        "    return er\n",
        "\n",
        "############################################################\n",
        "\n",
        "def model_func(pm_EY_EST , PM ,funcid , submod , df):\n",
        "    if submod == 'TOT':\n",
        "        y_mod = model_func_tot(pm_EY_EST , PM , df ,funcid )\n",
        "    elif submod == 'PRX':\n",
        "        y_mod = model_func_prx(pm_EY_EST , PM , df ,funcid )\n",
        "    else:\n",
        "        y_mod = model_func_cst(pm_EY_EST , PM , df ,funcid )\n",
        "    return  y_mod\n",
        "##############################################################\n",
        "\n",
        "def model_func_pmilvl(pm_EY_EST , PM , df ,funcid):\n",
        "    pm_2= PM.dict_1\n",
        "    dict_F = PM.dict_2\n",
        "    pm_AY_1 = PM.pm_AY\n",
        "    #pm_EY_1 = pm_EY_EST + pm_AY_1\n",
        "    pm_EY_1 = pm_AY_1 + pm_EY_EST\n",
        "\n",
        "    pmilvl = 0\n",
        "    pmilvl = pmilvl + pm_EY_1['XYZ_0']+ (df['name_1']+ pm_EY_1['ABC_0']) +pm_EY_1['XYZ_5'] + pm_EY_1['ABC_5']\n",
        "    pmilvl = pmilvl + pm_EY_1['XYZ_1']- (df['name_2']/ pm_EY_1['ABC_1']) +pm_EY_1['XYZ_6'] + pm_EY_1['ABC_6']\n",
        "    pmilvl = pmilvl + pm_EY_1['XYZ_2']- (df['name_3']/ pm_EY_1['ABC_2']) +pm_EY_1['XYZ_7']+pm_EY_1['ABC_7']\n",
        "    pmilvl = pmilvl + pm_EY_1['XYZ_3']- (df['name_4']/ pm_EY_1['ABC_3']) +pm_EY_1['XYZ_8']+ pm_EY_1['ABC_8']\n",
        "    pmilvl = pmilvl + pm_EY_1['XYZ_4']- (df['name_5']/ pm_EY_1['ABC_4']) +pm_EY_1['XYZ_9']+ pm_EY_1['ABC_9']\n",
        "\n",
        "    pmilvl_1 = 0\n",
        "    if funcid == 1:\n",
        "        for i in range(0 , 10):\n",
        "            pmilvl_1 = pmilvl_1 + func_plin(pm_2['X'+str(i)] ,df['name_12']  ,dict_F['X'+str(i)][0], dict_F['X'+str(i)][1], dict_F['X'+str(i)][2])\n",
        "\n",
        "\n",
        "    return  pmilvl +  pmilvl_1\n",
        "\n",
        "\n",
        "####################################################################\n",
        "\n",
        "def model_func_tot(pm_EY_EST , PM , df ,funcid):\n",
        "    pmilvl = model_func_pmilvl(pm_EY_EST , PM , df ,funcid)\n",
        "\n",
        "    pm_2= PM.dict_1\n",
        "    dict_F = PM.dict_2\n",
        "    pm_AY_1 = PM.pm_AY\n",
        "    #pm_EY_1 = pm_EY_EST + pm_AY_1\n",
        "    pm_EY_1 = pm_AY_1 + pm_EY_EST\n",
        "\n",
        "    tot = 0\n",
        "    tot = tot + pm_EY_1['XYZ_10']- (df['name_6']+ pm_EY_1['ABC_15']) +pm_EY_1['ABC_10'] + pm_EY_1['XYZ_15']\n",
        "    tot = tot + pm_EY_1['XYZ_11']- (df['name_7']/ pm_EY_1['ABC_16']) +pm_EY_1['ABC_11'] + pm_EY_1['XYZ_16']\n",
        "    tot = tot + pm_EY_1['XYZ_12']- (df['name_8']/ pm_EY_1['ABC_17']) +pm_EY_1['ABC_12'] + pm_EY_1['XYZ_17']\n",
        "    tot = tot + pm_EY_1['XYZ_13']- (df['name_9']/ pm_EY_1['ABC_18']) +pm_EY_1['ABC_13'] + pm_EY_1['XYZ_18']\n",
        "    tot = tot + pm_EY_1['XYZ_14']- (df['name_11']/ pm_EY_1['ABC_19']) +pm_EY_1['ABC_14'] + pm_EY_1['XYZ_19']\n",
        "\n",
        "    tot_1 = 0\n",
        "    if funcid == 1:\n",
        "        for i in range(0 , 10):\n",
        "            tot_1 = tot_1 + func_plin(pm_2['X'+str(i)] ,df['name_12']  ,dict_F['X'+str(i)][0], dict_F['X'+str(i)][1], dict_F['X'+str(i)][2])\n",
        "\n",
        "    elif  funcid == 2:\n",
        "        for i in range(10 , 20):\n",
        "            tot_1 = tot_1 + func_plin(pm_2['X'+str(i)] ,df['name_12']  ,dict_F['X'+str(i)][0], dict_F['X'+str(i)][1], dict_F['X'+str(i)][2])\n",
        "\n",
        "    return  pmilvl + tot +  np.exp(tot_1)\n",
        "\n",
        "########################################################\n",
        "\n",
        "def model_func_prx(pm_EY_EST , PM , df ,funcid):\n",
        "    pm_1= PM.dict_1\n",
        "    dict_f = PM.dict_2\n",
        "    pm_AY = PM.pm_AY\n",
        "    pm_EY = pm_EY_EST + pm_AY\n",
        "\n",
        "    prx = 0\n",
        "    prx = prx + pm_EY['XYZ_0']+ (df['name_1']+ pm_EY['ABC_0']) +pm_EY['XYZ_5'] + pm_EY['ABC_5']\n",
        "    prx = prx + pm_EY['XYZ_1']- (df['name_2']/ pm_EY['ABC_1']) +pm_EY['XYZ_6'] + pm_EY['ABC_6']\n",
        "    prx = prx + pm_EY['XYZ_2']- (df['name_3']/ pm_EY['ABC_2']) +pm_EY['XYZ_7']+ pm_EY['ABC_7']\n",
        "    prx = prx + pm_EY['XYZ_3']- (df['name_4']/ pm_EY['ABC_3']) +pm_EY['XYZ_8']+ pm_EY['ABC_8']\n",
        "    prx = prx + pm_EY['XYZ_4']- (df['name_5']/ pm_EY['ABC_4']) +pm_EY['XYZ_9']+ pm_EY['ABC_9']\n",
        "    prx = prx + pm_EY['XYZ_10']- (df['name_6']/ pm_EY['ABC_15']) +pm_EY['ABC_10'] + pm_EY['XYZ_15']\n",
        "    prx = prx + pm_EY['XYZ_11']- (df['name_7']/ pm_EY['ABC_16']) +pm_EY['ABC_11'] + pm_EY['XYZ_16']\n",
        "    prx = prx + pm_EY['XYZ_12']- (df['name_8']/ pm_EY['ABC_17']) +pm_EY['ABC_12'] + pm_EY['XYZ_17']\n",
        "    prx = prx + pm_EY['XYZ_13']- (df['name_9']/ pm_EY['ABC_18']) +pm_EY['ABC_13'] + pm_EY['XYZ_18']\n",
        "    prx = prx + pm_EY['XYZ_14']- (df['name_11']/ pm_EY['ABC_19']) +pm_EY['ABC_14'] + pm_EY['XYZ_19']\n",
        "\n",
        "    prx_1 = 0\n",
        "    if funcid == 1:\n",
        "        for i in range(0 , 10):\n",
        "            prx_1 = prx_1 + func_plin(pm_1['X'+str(i)] ,df['name_12']  ,dict_f['X'+str(i)][0], dict_f['X'+str(i)][1], dict_f['X'+str(i)][2])\n",
        "\n",
        "    elif  funcid == 2:\n",
        "        for i in range(10 , 20):\n",
        "            prx_1 = prx_1 + func_plin(pm_1['X'+str(i)] ,df['name_12']  ,dict_f['X'+str(i)][0], dict_f['X'+str(i)][1], dict_f['X'+str(i)][2])\n",
        "\n",
        "    return  np.exp(prx + prx_1)\n",
        "\n",
        "#######################################################################\n",
        "\n",
        "def model_func_cst(pm_EY_EST , PM , df ,funcid):\n",
        "    pm_1= PM.dict_1\n",
        "    dict_f = PM.dict_2\n",
        "    pm_AY = PM.pm_AY\n",
        "    pm_EY = pm_EY_EST + pm_AY\n",
        "\n",
        "    cst = 0\n",
        "    cst = cst + pm_EY['XYZ_0']+ (df['name_1']+ pm_EY['ABC_0']) /pm_EY['XYZ_5'] - pm_EY['ABC_5']\n",
        "    cst = cst + pm_EY['XYZ_1']+ (df['name_2']/ pm_EY['ABC_1']) /pm_EY['XYZ_6'] - pm_EY['ABC_6']\n",
        "    cst = cst + pm_EY['XYZ_2']+ (df['name_3']/ pm_EY['ABC_2']) /pm_EY['XYZ_7']- pm_EY['ABC_7']\n",
        "    cst = cst + pm_EY['XYZ_3']+ (df['name_4']/ pm_EY['ABC_3']) /pm_EY['XYZ_8']- pm_EY['ABC_8']\n",
        "    cst = cst + pm_EY['XYZ_4']+ (df['name_5']/ pm_EY['ABC_4']) /pm_EY['XYZ_9']- pm_EY['ABC_9']\n",
        "    cst = cst + pm_EY['XYZ_10']+ (df['name_6']/ pm_EY_1['ABC_15']) /pm_EY['ABC_10'] + pm_EY['XYZ_15']\n",
        "    cst = cst + pm_EY['XYZ_11']+ (df['name_7']/ pm_EY_1['ABC_16']) /pm_EY['ABC_11'] + pm_EY['XYZ_16']\n",
        "    cst = cst + pm_EY['XYZ_12']+ (df['name_8']/ pm_EY_1['ABC_17']) /pm_EY['ABC_12'] + pm_EY['XYZ_17']\n",
        "    cst = cst + pm_EY['XYZ_13']+ (df['name_9']/ pm_EY_1['ABC_18']) /pm_EY['ABC_13'] + pm_EY['XYZ_18']\n",
        "    cst = cst + pm_EY['XYZ_14']+ (df['name_11']/ pm_EY_1['ABC_19']) /pm_EY['ABC_14'] + pm_EY['XYZ_19']\n",
        "\n",
        "    cst_1 = 0\n",
        "    if funcid == 1:\n",
        "        for i in range(0 , 10):\n",
        "            cst_1 = cst_1 + func_plin(pm_1['X'+str(i)] ,df['name_12']  ,dict_f['X'+str(i)][0], dict_f['X'+str(i)][1], dict_f['X'+str(i)][2])\n",
        "\n",
        "    elif  funcid == 2:\n",
        "        for i in range(10 , 20):\n",
        "            cst_1 = cst_1 + func_plin(pm_1['X'+str(i)] ,df['name_12']  ,dict_f['X'+str(i)][0], dict_f['X'+str(i)][1], dict_f['X'+str(i)][2])\n",
        "\n",
        "    return  np.exp(cst + cst_1)"
      ],
      "metadata": {
        "id": "2_n3xwQg4FtM"
      },
      "execution_count": null,
      "outputs": []
    },
    {
      "cell_type": "markdown",
      "source": [
        "# **Training Lmfit model with python function**"
      ],
      "metadata": {
        "id": "9IADLR8dNntN"
      }
    },
    {
      "cell_type": "code",
      "source": [
        "import datetime\n",
        "start_time = datetime.datetime.now()\n",
        "print (\"Time start time is  : \", end = \"\")\n",
        "print (start_time)\n",
        "\n",
        "#############################################\n",
        "\n",
        "pm_EY_EST = PM.pm_EY\n",
        "funcid = 1\n",
        "submod = 'TOT'\n",
        "out = Minimizer(model_func_fit, pm_EY_EST  ,fcn_args = ( PM  ,funcid , submod,df_data,))\n",
        "out = out.minimize()\n",
        "\n",
        "###########################################\n",
        "end_time = datetime.datetime.now()\n",
        "print (\"Time end time is  : \", end = \"\")\n",
        "print (end_time)"
      ],
      "metadata": {
        "id": "WlVk7CCo4JRZ",
        "colab": {
          "base_uri": "https://localhost:8080/"
        },
        "outputId": "397834aa-b20d-4d54-a090-bd20002649f9"
      },
      "execution_count": null,
      "outputs": [
        {
          "output_type": "stream",
          "name": "stdout",
          "text": [
            "Time start time is  : 2023-12-19 08:26:41.828867\n",
            "Time end time is  : 2023-12-19 08:27:16.467235\n"
          ]
        }
      ]
    },
    {
      "cell_type": "code",
      "source": [
        "out"
      ],
      "metadata": {
        "colab": {
          "base_uri": "https://localhost:8080/",
          "height": 1000
        },
        "id": "yoYfg_xl4Mqu",
        "outputId": "b984c426-7fbe-45f2-8a95-4bc3a5c68307"
      },
      "execution_count": null,
      "outputs": [
        {
          "output_type": "execute_result",
          "data": {
            "text/plain": [
              "<lmfit.minimizer.MinimizerResult at 0x7b3a4dc4e080>"
            ],
            "text/html": [
              "<h2>Fit Result</h2> <table class=\"jp-toc-ignore\"><caption class=\"jp-toc-ignore\">Fit Statistics</caption><tr><td style='text-align:left'>fitting method</td><td style='text-align:right'>leastsq</td></tr><tr><td style='text-align:left'># function evals</td><td style='text-align:right'>43</td></tr><tr><td style='text-align:left'># data points</td><td style='text-align:right'>2000000</td></tr><tr><td style='text-align:left'># variables</td><td style='text-align:right'>20</td></tr><tr><td style='text-align:left'>chi-square</td><td style='text-align:right'> 1.3500e+14</td></tr><tr><td style='text-align:left'>reduced chi-square</td><td style='text-align:right'> 67499094.7</td></tr><tr><td style='text-align:left'>Akaike info crit.</td><td style='text-align:right'> 36055269.5</td></tr><tr><td style='text-align:left'>Bayesian info crit.</td><td style='text-align:right'> 36055519.7</td></tr></table><table class=\"jp-toc-ignore\"><caption>Parameters</caption><tr><th style='text-align:left'>name</th><th style='text-align:left'>value</th><th style='text-align:left'>standard error</th><th style='text-align:left'>relative error</th><th style='text-align:left'>initial value</th><th style='text-align:left'>min</th><th style='text-align:left'>max</th><th style='text-align:right'>vary</th></tr><tr><td style='text-align:left'>XYZ_0</td><td style='text-align:left'>-12111.0473</td><td style='text-align:left'> 4.1200e+11</td><td style='text-align:left'>(3401821300.19%)</td><td style='text-align:left'>0.0</td><td style='text-align:left'>       -inf</td><td style='text-align:left'>        inf</td><td style='text-align:right'>True</td></tr><tr><td style='text-align:left'>XYZ_1</td><td style='text-align:left'> 1404.85926</td><td style='text-align:left'> 1.6693e+11</td><td style='text-align:left'>(11882447566.90%)</td><td style='text-align:left'>2.6315789473684212</td><td style='text-align:left'>       -inf</td><td style='text-align:left'>        inf</td><td style='text-align:right'>True</td></tr><tr><td style='text-align:left'>XYZ_2</td><td style='text-align:left'>-2675.93155</td><td style='text-align:left'> 3.8577e+11</td><td style='text-align:left'>(14416407725.15%)</td><td style='text-align:left'>5.2631578947368425</td><td style='text-align:left'>       -inf</td><td style='text-align:left'>        inf</td><td style='text-align:right'>True</td></tr><tr><td style='text-align:left'>XYZ_3</td><td style='text-align:left'> 930.726586</td><td style='text-align:left'> 7.0785e+10</td><td style='text-align:left'>(7605332005.39%)</td><td style='text-align:left'>7.894736842105264</td><td style='text-align:left'>       -inf</td><td style='text-align:left'>        inf</td><td style='text-align:right'>True</td></tr><tr><td style='text-align:left'>XYZ_4</td><td style='text-align:left'> 1307.37225</td><td style='text-align:left'> 1.9164e+11</td><td style='text-align:left'>(14658209347.37%)</td><td style='text-align:left'>10.526315789473685</td><td style='text-align:left'>       -inf</td><td style='text-align:left'>        inf</td><td style='text-align:right'>True</td></tr><tr><td style='text-align:left'>XYZ_5</td><td style='text-align:left'>-1651.56080</td><td style='text-align:left'> 2.4127e+11</td><td style='text-align:left'>(14608315518.61%)</td><td style='text-align:left'>13.157894736842106</td><td style='text-align:left'>       -inf</td><td style='text-align:left'>        inf</td><td style='text-align:right'>True</td></tr><tr><td style='text-align:left'>XYZ_6</td><td style='text-align:left'>-107.318037</td><td style='text-align:left'> 1.1499e+10</td><td style='text-align:left'>(10714679089.99%)</td><td style='text-align:left'>15.789473684210527</td><td style='text-align:left'>       -inf</td><td style='text-align:left'>        inf</td><td style='text-align:right'>True</td></tr><tr><td style='text-align:left'>XYZ_7</td><td style='text-align:left'> 2451.50305</td><td style='text-align:left'> 1.1981e+11</td><td style='text-align:left'>(4887005386.16%)</td><td style='text-align:left'>18.42105263157895</td><td style='text-align:left'>       -inf</td><td style='text-align:left'>        inf</td><td style='text-align:right'>True</td></tr><tr><td style='text-align:left'>XYZ_8</td><td style='text-align:left'>-500.277358</td><td style='text-align:left'> 1.7864e+10</td><td style='text-align:left'>(3570795111.01%)</td><td style='text-align:left'>21.05263157894737</td><td style='text-align:left'>       -inf</td><td style='text-align:left'>        inf</td><td style='text-align:right'>True</td></tr><tr><td style='text-align:left'>XYZ_9</td><td style='text-align:left'>-673.201868</td><td style='text-align:left'> 9.3567e+10</td><td style='text-align:left'>(13898838369.25%)</td><td style='text-align:left'>23.68421052631579</td><td style='text-align:left'>       -inf</td><td style='text-align:left'>        inf</td><td style='text-align:right'>True</td></tr><tr><td style='text-align:left'>XYZ_10</td><td style='text-align:left'> 863.099226</td><td style='text-align:left'> 8.0740e+10</td><td style='text-align:left'>(9354702303.71%)</td><td style='text-align:left'>26.315789473684212</td><td style='text-align:left'>       -inf</td><td style='text-align:left'>        inf</td><td style='text-align:right'>True</td></tr><tr><td style='text-align:left'>XYZ_11</td><td style='text-align:left'> 937.639825</td><td style='text-align:left'> 9.6767e+10</td><td style='text-align:left'>(10320234556.21%)</td><td style='text-align:left'>28.947368421052634</td><td style='text-align:left'>       -inf</td><td style='text-align:left'>        inf</td><td style='text-align:right'>True</td></tr><tr><td style='text-align:left'>XYZ_12</td><td style='text-align:left'> 1169.01286</td><td style='text-align:left'> 7.7417e+10</td><td style='text-align:left'>(6622390324.01%)</td><td style='text-align:left'>31.578947368421055</td><td style='text-align:left'>       -inf</td><td style='text-align:left'>        inf</td><td style='text-align:right'>True</td></tr><tr><td style='text-align:left'>XYZ_13</td><td style='text-align:left'> 456.092311</td><td style='text-align:left'> 6.6583e+10</td><td style='text-align:left'>(14598648534.19%)</td><td style='text-align:left'>34.21052631578948</td><td style='text-align:left'>       -inf</td><td style='text-align:left'>        inf</td><td style='text-align:right'>True</td></tr><tr><td style='text-align:left'>XYZ_14</td><td style='text-align:left'>-620.553288</td><td style='text-align:left'> 9.0758e+10</td><td style='text-align:left'>(14625303568.52%)</td><td style='text-align:left'>36.8421052631579</td><td style='text-align:left'>       -inf</td><td style='text-align:left'>        inf</td><td style='text-align:right'>True</td></tr><tr><td style='text-align:left'>XYZ_15</td><td style='text-align:left'> 347.295237</td><td style='text-align:left'> 2.5909e+10</td><td style='text-align:left'>(7460084532.54%)</td><td style='text-align:left'>39.473684210526315</td><td style='text-align:left'>       -inf</td><td style='text-align:left'>        inf</td><td style='text-align:right'>True</td></tr><tr><td style='text-align:left'>XYZ_16</td><td style='text-align:left'> 902.778727</td><td style='text-align:left'> 6.2543e+10</td><td style='text-align:left'>(6927826787.76%)</td><td style='text-align:left'>42.10526315789474</td><td style='text-align:left'>       -inf</td><td style='text-align:left'>        inf</td><td style='text-align:right'>True</td></tr><tr><td style='text-align:left'>XYZ_17</td><td style='text-align:left'> 195.080448</td><td style='text-align:left'> 2.6274e+10</td><td style='text-align:left'>(13468074634.83%)</td><td style='text-align:left'>44.736842105263165</td><td style='text-align:left'>       -inf</td><td style='text-align:left'>        inf</td><td style='text-align:right'>True</td></tr><tr><td style='text-align:left'>XYZ_18</td><td style='text-align:left'> 591.945615</td><td style='text-align:left'> 7.9833e+10</td><td style='text-align:left'>(13486589620.43%)</td><td style='text-align:left'>47.36842105263158</td><td style='text-align:left'>       -inf</td><td style='text-align:left'>        inf</td><td style='text-align:right'>True</td></tr><tr><td style='text-align:left'>XYZ_19</td><td style='text-align:left'> 827.945551</td><td style='text-align:left'> 1.1155e+11</td><td style='text-align:left'>(13473253262.00%)</td><td style='text-align:left'>50.0</td><td style='text-align:left'>       -inf</td><td style='text-align:left'>        inf</td><td style='text-align:right'>True</td></tr></table><table class=\"jp-toc-ignore\"><caption>Correlations (unreported values are < 0.100)</caption><tr><th style='text-align:left'>Parameter1</th><th style='text-align:left'>Parameter 2</th><th style='text-align:right'>Correlation</th></tr><tr><td style='text-align:left'>XYZ_1</td><td style='text-align:left'>XYZ_6</td><td style='text-align:right'>-0.9269</td></tr><tr><td style='text-align:left'>XYZ_3</td><td style='text-align:left'>XYZ_9</td><td style='text-align:right'>-0.8594</td></tr><tr><td style='text-align:left'>XYZ_0</td><td style='text-align:left'>XYZ_2</td><td style='text-align:right'>-0.6829</td></tr><tr><td style='text-align:left'>XYZ_0</td><td style='text-align:left'>XYZ_1</td><td style='text-align:right'>-0.4497</td></tr><tr><td style='text-align:left'>XYZ_17</td><td style='text-align:left'>XYZ_19</td><td style='text-align:right'>-0.3830</td></tr><tr><td style='text-align:left'>XYZ_18</td><td style='text-align:left'>XYZ_19</td><td style='text-align:right'>-0.3825</td></tr><tr><td style='text-align:left'>XYZ_17</td><td style='text-align:left'>XYZ_18</td><td style='text-align:right'>-0.3823</td></tr><tr><td style='text-align:left'>XYZ_10</td><td style='text-align:left'>XYZ_16</td><td style='text-align:right'>-0.2919</td></tr><tr><td style='text-align:left'>XYZ_0</td><td style='text-align:left'>XYZ_13</td><td style='text-align:right'>+0.2522</td></tr><tr><td style='text-align:left'>XYZ_3</td><td style='text-align:left'>XYZ_7</td><td style='text-align:right'>-0.2514</td></tr><tr><td style='text-align:left'>XYZ_0</td><td style='text-align:left'>XYZ_5</td><td style='text-align:right'>-0.2435</td></tr><tr><td style='text-align:left'>XYZ_0</td><td style='text-align:left'>XYZ_6</td><td style='text-align:right'>+0.2380</td></tr><tr><td style='text-align:left'>XYZ_11</td><td style='text-align:left'>XYZ_18</td><td style='text-align:right'>-0.2209</td></tr><tr><td style='text-align:left'>XYZ_11</td><td style='text-align:left'>XYZ_19</td><td style='text-align:right'>-0.2189</td></tr><tr><td style='text-align:left'>XYZ_11</td><td style='text-align:left'>XYZ_17</td><td style='text-align:right'>-0.2169</td></tr><tr><td style='text-align:left'>XYZ_0</td><td style='text-align:left'>XYZ_7</td><td style='text-align:right'>-0.2122</td></tr><tr><td style='text-align:left'>XYZ_0</td><td style='text-align:left'>XYZ_17</td><td style='text-align:right'>+0.1888</td></tr><tr><td style='text-align:left'>XYZ_2</td><td style='text-align:left'>XYZ_5</td><td style='text-align:right'>-0.1873</td></tr><tr><td style='text-align:left'>XYZ_0</td><td style='text-align:left'>XYZ_14</td><td style='text-align:right'>+0.1843</td></tr><tr><td style='text-align:left'>XYZ_2</td><td style='text-align:left'>XYZ_4</td><td style='text-align:right'>-0.1805</td></tr><tr><td style='text-align:left'>XYZ_13</td><td style='text-align:left'>XYZ_14</td><td style='text-align:right'>-0.1803</td></tr><tr><td style='text-align:left'>XYZ_4</td><td style='text-align:left'>XYZ_5</td><td style='text-align:right'>-0.1757</td></tr><tr><td style='text-align:left'>XYZ_3</td><td style='text-align:left'>XYZ_8</td><td style='text-align:right'>-0.1750</td></tr><tr><td style='text-align:left'>XYZ_4</td><td style='text-align:left'>XYZ_14</td><td style='text-align:right'>-0.1720</td></tr><tr><td style='text-align:left'>XYZ_5</td><td style='text-align:left'>XYZ_14</td><td style='text-align:right'>-0.1691</td></tr><tr><td style='text-align:left'>XYZ_5</td><td style='text-align:left'>XYZ_13</td><td style='text-align:right'>-0.1681</td></tr><tr><td style='text-align:left'>XYZ_4</td><td style='text-align:left'>XYZ_13</td><td style='text-align:right'>-0.1666</td></tr><tr><td style='text-align:left'>XYZ_2</td><td style='text-align:left'>XYZ_13</td><td style='text-align:right'>-0.1637</td></tr><tr><td style='text-align:left'>XYZ_2</td><td style='text-align:left'>XYZ_14</td><td style='text-align:right'>-0.1635</td></tr><tr><td style='text-align:left'>XYZ_0</td><td style='text-align:left'>XYZ_9</td><td style='text-align:right'>+0.1231</td></tr><tr><td style='text-align:left'>XYZ_0</td><td style='text-align:left'>XYZ_15</td><td style='text-align:right'>+0.1203</td></tr><tr><td style='text-align:left'>XYZ_2</td><td style='text-align:left'>XYZ_6</td><td style='text-align:right'>+0.1177</td></tr><tr><td style='text-align:left'>XYZ_11</td><td style='text-align:left'>XYZ_15</td><td style='text-align:right'>-0.1139</td></tr><tr><td style='text-align:left'>XYZ_0</td><td style='text-align:left'>XYZ_19</td><td style='text-align:right'>-0.1029</td></tr><tr><td style='text-align:left'>XYZ_0</td><td style='text-align:left'>XYZ_4</td><td style='text-align:right'>-0.1009</td></tr></table>"
            ]
          },
          "metadata": {},
          "execution_count": 17
        }
      ]
    },
    {
      "cell_type": "markdown",
      "source": [
        "# **Training Lmfit model with pyspark wrapped framework @pandas_udf**"
      ],
      "metadata": {
        "id": "ijCbdxWiPaeA"
      }
    },
    {
      "cell_type": "code",
      "source": [
        "from pyspark.sql.types import StructType, StructField, StringType,BooleanType\n",
        "schema = StructType([ \\\n",
        "        StructField(\"PM_NM\",StringType(),True), \\\n",
        "        StructField(\"Estimate\",DoubleType(),True), \\\n",
        "        StructField(\"Std. Error\",DoubleType(),True), \\\n",
        "        StructField(\"min\",DoubleType(),True), \\\n",
        "        StructField(\"max\",DoubleType(),True), \\\n",
        "        StructField(\"vary\",BooleanType(),True),\n",
        "      ])\n",
        "\n",
        "##########################################################\n",
        "\n",
        "@pandas_udf(schema , PandasUDFType.GROUPED_MAP)\n",
        "def minimizer(df):\n",
        "    #out = minimize(residual, fit_params ,args = (df,))\n",
        "    out = Minimizer(model_func_fit, pm_EY_EST  ,fcn_args = ( PM  ,funcid , submod,df,))\n",
        "    out = out.minimize()\n",
        "    result = out.params\n",
        "    a = []\n",
        "    b = []\n",
        "    c = []\n",
        "    d = []\n",
        "    e = []\n",
        "    f = []\n",
        "    for p in result:\n",
        "        a.append(p)\n",
        "        b.append(result[p].value)\n",
        "        c.append(result[p].stderr)\n",
        "        d.append(result[p].min)\n",
        "        e.append(result[p].max)\n",
        "        f.append(result[p].vary)\n",
        "    return pd.DataFrame({'PM_NM':a ,'Estimate':b , 'Std. Error':c , 'min' :d ,'max':e , 'vary':f })"
      ],
      "metadata": {
        "id": "0JTb-hwu5OC7"
      },
      "execution_count": null,
      "outputs": []
    },
    {
      "cell_type": "code",
      "source": [
        "import datetime\n",
        "group_column = 'group'\n",
        "start_time = datetime.datetime.now()\n",
        "print (\"Time start time is  : \", end = \"\")\n",
        "print (start_time)\n",
        "\n",
        "#####################\n",
        "test = df_data_1.groupby(group_column).apply(minimizer)\n",
        "\n",
        "\n",
        "#####################\n",
        "\n",
        "end_time = datetime.datetime.now()\n",
        "print (\"Time start time is  : \", end = \"\")\n",
        "print (end_time)"
      ],
      "metadata": {
        "colab": {
          "base_uri": "https://localhost:8080/"
        },
        "id": "a3wAh1pK5Q7h",
        "outputId": "270e1f97-6fe8-402f-bfd0-1240c6f42f13"
      },
      "execution_count": null,
      "outputs": [
        {
          "output_type": "stream",
          "name": "stdout",
          "text": [
            "Time start time is  : 2023-12-19 08:01:43.952002\n",
            "Time start time is  : 2023-12-19 08:01:44.245742\n"
          ]
        },
        {
          "output_type": "stream",
          "name": "stderr",
          "text": [
            "/content/spark-3.1.1-bin-hadoop3.2/python/pyspark/sql/pandas/group_ops.py:81: UserWarning: It is preferred to use 'applyInPandas' over this API. This API will be deprecated in the future releases. See SPARK-28264 for more details.\n",
            "  warnings.warn(\n"
          ]
        }
      ]
    },
    {
      "cell_type": "code",
      "source": [
        "import datetime\n",
        "start_time = datetime.datetime.now()\n",
        "print (\"Time start time is  : \", end = \"\")\n",
        "print (start_time)\n",
        "\n",
        "#####################\n",
        "\n",
        "test.show()\n",
        "\n",
        "#####################\n",
        "\n",
        "end_time = datetime.datetime.now()\n",
        "print (\"Time start time is  : \", end = \"\")\n",
        "print (end_time)"
      ],
      "metadata": {
        "colab": {
          "base_uri": "https://localhost:8080/"
        },
        "id": "O_38gKog5UHL",
        "outputId": "1323cc86-06df-41c0-b498-96f66fea32db"
      },
      "execution_count": null,
      "outputs": [
        {
          "output_type": "stream",
          "name": "stdout",
          "text": [
            "Time start time is  : 2023-12-19 08:01:49.463911\n",
            "+------+-------------------+--------------------+---------+--------+----+\n",
            "| PM_NM|           Estimate|          Std. Error|      min|     max|vary|\n",
            "+------+-------------------+--------------------+---------+--------+----+\n",
            "| XYZ_0|-12111.047299247506|3.994877086785617E11|-Infinity|Infinity|true|\n",
            "| XYZ_1| 1404.8592734972308|3.607017426750385E10|-Infinity|Infinity|true|\n",
            "| XYZ_2| -2675.931565807987|1.274998114858630...|-Infinity|Infinity|true|\n",
            "| XYZ_3|  930.7265786599944|1.377419360882776...|-Infinity|Infinity|true|\n",
            "| XYZ_4|  1307.372254605729|1.940501834139460...|-Infinity|Infinity|true|\n",
            "| XYZ_5|-1651.5607924331475|2.396394012196671...|-Infinity|Infinity|true|\n",
            "| XYZ_6|-107.31803454703649|1.575392961205374...|-Infinity|Infinity|true|\n",
            "| XYZ_7|  2451.503058567756|3.578239697833732E11|-Infinity|Infinity|true|\n",
            "| XYZ_8| -500.2773648657934|7.432040380794957E10|-Infinity|Infinity|true|\n",
            "| XYZ_9| -673.2018517269822|1.001882390018745...|-Infinity|Infinity|true|\n",
            "|XYZ_10|  863.0992349973552|1.237452722343665...|-Infinity|Infinity|true|\n",
            "|XYZ_11|  937.6398231626187|1.014412070985604...|-Infinity|Infinity|true|\n",
            "|XYZ_12|  1169.012869394571|  9.3932724254898E10|-Infinity|Infinity|true|\n",
            "|XYZ_13|   456.092300553125|6.763698057202399E10|-Infinity|Infinity|true|\n",
            "|XYZ_14| -620.5532983893287| 7.43902898710189E10|-Infinity|Infinity|true|\n",
            "|XYZ_15| 347.29522928437734|3.117189879939462...|-Infinity|Infinity|true|\n",
            "|XYZ_16|  902.7787213472418|9.727541939745264E10|-Infinity|Infinity|true|\n",
            "|XYZ_17|  195.0804667847828|2.752597776120873E10|-Infinity|Infinity|true|\n",
            "|XYZ_18|  591.9455981932698|8.771378184416641E10|-Infinity|Infinity|true|\n",
            "|XYZ_19|  827.9455423933256|1.228015503980130...|-Infinity|Infinity|true|\n",
            "+------+-------------------+--------------------+---------+--------+----+\n",
            "\n",
            "Time start time is  : 2023-12-19 08:03:06.923400\n"
          ]
        }
      ]
    },
    {
      "cell_type": "markdown",
      "source": [
        "# **Training Lmfit model after converting python function into pyspark and embedding those function inside python Lmfit function**"
      ],
      "metadata": {
        "id": "6flxcTzIPne1"
      }
    },
    {
      "cell_type": "code",
      "source": [
        "def func_plin(f, df,col,  a, b, c):\n",
        "  if f == 'f_1':\n",
        "    return df.withColumn('values' , greatest(lit(0) , (least(lit(1) , (df[col] - lit(a + 0)) / (lit(b + 0) - lit(a + 0)) ))))\n",
        "\n",
        "  elif f == 'f_2':\n",
        "    return df.withColumn('values' , greatest(lit(0) , (least(lit(1) , (df[col] - lit(a + 0)) / (lit(b + 0) - lit(c + 0)) ))))\n",
        "  elif f == 'f_3':\n",
        "    return df.withColumn('values' , greatest(lit(0) , (least(lit(1) , (df[col] - lit(a + 0)) * (lit(b + 0) - lit(a + 0)) ))))\n",
        "  elif f == 'f_4':\n",
        "    return df.withColumn('values' , greatest(lit(0) , (least(lit(1) , (df[col] - lit(a + 0)) * (lit(b + 0) - lit(c + 0)) ))))\n",
        "  elif f == 'f_5':\n",
        "    return df.withColumn('values' , greatest(lit(0) , (least(lit(1) , (df[col] - lit(a + 0)) * (lit(b + 0) - lit(c + 0)) ))))\n",
        "  else:\n",
        "    return df.withColumn('values' , lit(1))\n",
        "\n",
        "############################################################################################\n",
        "\n",
        "def model_func_pmilvl(pm_EY_EST , PM , df ,funcid):\n",
        "    pm_2= PM.dict_1\n",
        "    dict_F = PM.dict_2\n",
        "    pm_AY_1 = PM.pm_AY\n",
        "    #pm_EY_1 = pm_EY_EST + pm_AY_1\n",
        "    pm_EY_1 = pm_AY_1 + pm_EY_EST\n",
        "\n",
        "    pmilvl = 0\n",
        "    pmilvl = df.withColumn('result' , pmilvl + lit(pm_EY_1['XYZ_0'] + 0) + (col('name_1')+ lit(pm_EY_1['ABC_0'] + 0)) +lit(pm_EY_1['XYZ_5'] + 0) + lit(pm_EY_1['ABC_5'] + 0))\n",
        "    pmilvl = pmilvl.withColumn('result' , col('result') - lit(pm_EY_1['XYZ_1'] + 0) / (col('name_2')+ lit(pm_EY_1['ABC_1'] + 0)) +lit(pm_EY_1['XYZ_6'] + 0) + lit(pm_EY_1['ABC_6'] + 0))\n",
        "    pmilvl = pmilvl.withColumn('result' , col('result') - lit(pm_EY_1['XYZ_2'] + 0) / (col('name_3')+ lit(pm_EY_1['ABC_2'] + 0)) +lit(pm_EY_1['XYZ_7'] + 0) + lit(pm_EY_1['ABC_7'] + 0))\n",
        "    pmilvl = pmilvl.withColumn('result' , col('result') - lit(pm_EY_1['XYZ_3'] + 0) / (col('name_4')+ lit(pm_EY_1['ABC_3'] + 0)) +lit(pm_EY_1['XYZ_8'] + 0) + lit(pm_EY_1['ABC_8'] + 0))\n",
        "    pmilvl = pmilvl.withColumn('result' , col('result') - lit(pm_EY_1['XYZ_4'] + 0) / (col('name_5')+ lit(pm_EY_1['ABC_4'] + 0)) +lit(pm_EY_1['XYZ_9'] + 0) + lit(pm_EY_1['ABC_9'] + 0))\n",
        "\n",
        "    if funcid == 1:\n",
        "      pmilvl_1 = pmilvl.withColumn('result1' , lit(0))\n",
        "\n",
        "      for i in range(0 , 10):\n",
        "        params = Parameters()\n",
        "        params.add('a', value=float(dict_F['X'+str(i)][0]))\n",
        "        params.add('b', value=float(dict_F['X'+str(i)][1]))\n",
        "        params.add('c', value=float(dict_F['X'+str(i)][2]))\n",
        "        pmilvl_1 = func_plin(pm_2['X'+str(i)], pmilvl_1,'name_12',  params['a'], params['b'], params['c'])\n",
        "        pmilvl_1 = pmilvl_1.withColumn('result1' , f.col('result1') + pmilvl_1['values'])\n",
        "        pmilvl_1 = pmilvl_1.withColumn('result' , f.col('result') + pmilvl_1['result1'])\n",
        "\n",
        "    return pmilvl_1\n",
        "\n",
        "#######################################################################################\n",
        "\n",
        "def model_func_tot(pm_EY_EST , PM , df ,funcid):\n",
        "    df = model_func_pmilvl(pm_EY_EST , PM , df ,funcid)\n",
        "    df = df.withColumn('mod_pmilvl' , col('result')).drop('result')\n",
        "\n",
        "    pm_2= PM.dict_1\n",
        "    dict_F = PM.dict_2\n",
        "    pm_AY_1 = PM.pm_AY\n",
        "    #pm_EY_1 = pm_EY_EST + pm_AY_1\n",
        "    pm_EY_1 = pm_AY_1 + pm_EY_EST\n",
        "\n",
        "    tot = 0\n",
        "    tot = df.withColumn('result' , tot + lit(pm_EY_1['XYZ_10'] + 0) - (col('name_6')+ lit(pm_EY_1['ABC_15'] + 0)) +lit(pm_EY_1['ABC_10'] + 0) + lit(pm_EY_1['XYZ_15'] + 0))\n",
        "    tot = tot.withColumn('result' , col('result') + lit(pm_EY_1['XYZ_11'] + 0) - (col('name_7')/ lit(pm_EY_1['ABC_16'] + 0)) +lit(pm_EY_1['ABC_11'] + 0) + lit(pm_EY_1['XYZ_16'] + 0))\n",
        "    tot = tot.withColumn('result' , col('result') + lit(pm_EY_1['XYZ_12'] + 0) - (col('name_8')/ lit(pm_EY_1['ABC_17'] + 0)) +lit(pm_EY_1['ABC_12'] + 0) + lit(pm_EY_1['XYZ_17'] + 0))\n",
        "    tot = tot.withColumn('result' , col('result') + lit(pm_EY_1['XYZ_13'] + 0) - (col('name_9')/ lit(pm_EY_1['ABC_18'] + 0)) +lit(pm_EY_1['ABC_13'] + 0) + lit(pm_EY_1['XYZ_18'] + 0))\n",
        "    tot = tot.withColumn('result' , col('result') + lit(pm_EY_1['XYZ_14'] + 0) - (col('name_11')/ lit(pm_EY_1['ABC_19'] + 0)) +lit(pm_EY_1['ABC_14'] + 0) + lit(pm_EY_1['XYZ_19'] + 0))\n",
        "\n",
        "    if funcid == 1:\n",
        "      tot_1 = tot.withColumn('result1' , lit(0))\n",
        "      for i in range(0 , 10):\n",
        "        params = Parameters()\n",
        "        params.add('a', value=float(dict_F['X'+str(i)][0]))\n",
        "        params.add('b', value=float(dict_F['X'+str(i)][1]))\n",
        "        params.add('c', value=float(dict_F['X'+str(i)][2]))\n",
        "        tot_1 = func_plin(pm_2['X'+str(i)] ,tot_1 ,'name_12' ,params['a'], params['b'], params['c'])\n",
        "        tot_1 = tot_1.withColumn('result1' , f.col('result1') + tot_1['values'])\n",
        "\n",
        "    elif  funcid == 2:\n",
        "      for i in range(10 , 20):\n",
        "        params = Parameters()\n",
        "        params.add('a', value=float(dict_F['X'+str(i)][0]))\n",
        "        params.add('b', value=float(dict_F['X'+str(i)][1]))\n",
        "        params.add('c', value=float(dict_F['X'+str(i)][2]))\n",
        "        tot_1 = func_plin(pm_2['X'+str(i)] ,tot_1 , 'name_12' ,params['a'], params['b'], params['c'])\n",
        "        tot_1 = tot_1.withColumn('result1' , f.col('result1') + tot_1['values'])\n",
        "\n",
        "\n",
        "    return  tot_1.withColumn('result' , f.col('mod_pmilvl') + f.col('result') + exp(col('result1')))\n",
        "\n",
        "#####################################################################################################\n",
        "\n",
        "def model_func_prx(pm_EY_EST , PM , df ,funcid):\n",
        "    pm_1= PM.dict_1\n",
        "    dict_f = PM.dict_2\n",
        "    pm_AY = PM.pm_AY\n",
        "    pm_EY = pm_EY_EST + pm_AY\n",
        "\n",
        "    prx = 0\n",
        "    prx = df.withColumn('result' , prx + lit(pm_EY['XYZ_0'] + 0) + (col('name_1')+ lit(pm_EY['ABC_0'] + 0)) +lit(pm_EY['XYZ_5'] + 0) + lit(pm_EY['ABC_5'] + 0))\n",
        "    prx = prx.withColumn('result' , col('result') + lit(pm_EY['XYZ_1'] + 0) - (col('name_2')/ lit(pm_EY['ABC_1'] + 0)) +lit(pm_EY['XYZ_6'] + 0) + lit(pm_EY['ABC_6'] + 0))\n",
        "    prx = prx.withColumn('result' , col('result') + lit(pm_EY['XYZ_2'] + 0) - (col('name_3')/ lit(pm_EY['ABC_2'] + 0)) +lit(pm_EY['XYZ_7'] + 0) + lit(pm_EY['ABC_7'] + 0))\n",
        "    prx = prx.withColumn('result' , col('result') + lit(pm_EY['XYZ_3'] + 0) - (col('name_4')/ lit(pm_EY['ABC_3'] + 0)) +lit(pm_EY['XYZ_8'] + 0) + lit(pm_EY['ABC_8'] + 0))\n",
        "    prx = prx.withColumn('result' , col('result') + lit(pm_EY['XYZ_4'] + 0) - (col('name_5')/ lit(pm_EY['ABC_4'] + 0)) +lit(pm_EY['XYZ_9'] + 0) + lit(pm_EY['ABC_9'] + 0))\n",
        "    prx = prx.withColumn('result' , col('result') + lit(pm_EY['XYZ_10'] + 0) - (col('name_6')/ lit(pm_EY['ABC_15'] + 0)) +lit(pm_EY['ABC_10'] + 0) + lit(pm_EY['XYZ_15'] + 0))\n",
        "    prx = prx.withColumn('result' , col('result') + lit(pm_EY['XYZ_11'] + 0) - (col('name_7')/ lit(pm_EY['ABC_16'] + 0)) +lit(pm_EY['ABC_11'] + 0) + lit(pm_EY['XYZ_16'] + 0))\n",
        "    prx = prx.withColumn('result' , col('result') + lit(pm_EY['XYZ_12'] + 0) - (col('name_8')/ lit(pm_EY['ABC_17'] + 0)) +lit(pm_EY['ABC_12'] + 0) + lit(pm_EY['XYZ_17'] + 0))\n",
        "    prx = prx.withColumn('result' , col('result') + lit(pm_EY['XYZ_13'] + 0) - (col('name_9')/ lit(pm_EY['ABC_18'] + 0)) +lit(pm_EY['ABC_13'] + 0) + lit(pm_EY['XYZ_18'] + 0))\n",
        "    prx = prx.withColumn('result' , col('result') + lit(pm_EY['XYZ_14'] + 0) - (col('name_11')/ lit(pm_EY['ABC_19'] + 0)) +lit(pm_EY['ABC_14'] + 0) + lit(pm_EY['XYZ_19'] + 0))\n",
        "\n",
        "\n",
        "    if funcid == 1:\n",
        "      prx_1 = prx.withColumn('result1' , lit(0))\n",
        "      for i in range(0 , 10):\n",
        "        params = Parameters()\n",
        "        params.add('a', value=float(dict_F['X'+str(i)][0]))\n",
        "        params.add('b', value=float(dict_F['X'+str(i)][1]))\n",
        "        params.add('c', value=float(dict_F['X'+str(i)][2]))\n",
        "        prx_1 = func_plin(pm_2['X'+str(i)] ,prx_1 ,'name_12' ,params['a'], params['b'], params['c'])\n",
        "        prx_1 = prx_1.withColumn('result1' , f.col('result1') + prx_1['values'])\n",
        "\n",
        "    elif  funcid == 2:\n",
        "        for i in range(10 , 20):\n",
        "            params = Parameters()\n",
        "            params.add('a', value=float(dict_F['X'+str(i)][0]))\n",
        "            params.add('b', value=float(dict_F['X'+str(i)][1]))\n",
        "            params.add('c', value=float(dict_F['X'+str(i)][2]))\n",
        "            prx_1 = prx_1 + func_plin(pm_2['X'+str(i)] ,prx_1 , 'name_12' ,params['a'], params['b'], params['c'])\n",
        "            prx_1 = prx_1.withColumn('result1' , f.col('result1') + prx_1['values'])\n",
        "\n",
        "    return prx_1.withColumn('result' , exp(col('result') + col('result1')))\n",
        "\n",
        "####################################################################################################\n",
        "\n",
        "def model_func_cst(pm_EY_EST , PM , df ,funcid):\n",
        "    pm_1= PM.dict_1\n",
        "    dict_f = PM.dict_2\n",
        "    pm_AY = PM.pm_AY\n",
        "    pm_EY = pm_EY_EST + pm_AY\n",
        "\n",
        "    cst = 0\n",
        "    cst = df.withColumn('result' , cst + lit(pm_EY['XYZ_0'] + 0) + (col('name_1')+ lit(pm_EY['ABC_0'] + 0)) /lit(pm_EY['XYZ_5'] + 0) - lit(pm_EY['ABC_5'] + 0))\n",
        "    cst = df.withColumn('result' , cst + lit(pm_EY['XYZ_1'] + 0) + (col('name_2')/ lit(pm_EY['ABC_1'] + 0)) /lit(pm_EY['XYZ_6'] + 0) - lit(pm_EY['ABC_6'] + 0))\n",
        "    cst = df.withColumn('result' , cst + lit(pm_EY['XYZ_2'] + 0) + (col('name_3')/ lit(pm_EY['ABC_2'] + 0)) /lit(pm_EY['XYZ_7'] + 0) - lit(pm_EY['ABC_7'] + 0))\n",
        "    cst = df.withColumn('result' , cst + lit(pm_EY['XYZ_3'] + 0) + (col('name_4')/ lit(pm_EY['ABC_3'] + 0)) /lit(pm_EY['XYZ_8'] + 0) - lit(pm_EY['ABC_8'] + 0))\n",
        "    cst = df.withColumn('result' , cst + lit(pm_EY['XYZ_4'] + 0) + (col('name_5')/ lit(pm_EY['ABC_4'] + 0)) /lit(pm_EY['XYZ_9'] + 0) - lit(pm_EY['ABC_9'] + 0))\n",
        "    cst = df.withColumn('result' , cst + lit(pm_EY['XYZ_10'] + 0) + (col('name_6')/ lit(pm_EY['ABC_15'] + 0)) /lit(pm_EY['ABC_10'] + 0) + lit(pm_EY['XYZ_15'] + 0))\n",
        "    cst = df.withColumn('result' , cst + lit(pm_EY['XYZ_11'] + 0) + (col('name_7')/ lit(pm_EY['ABC_16'] + 0)) /lit(pm_EY['ABC_11'] + 0) + lit(pm_EY['XYZ_16'] + 0))\n",
        "    cst = df.withColumn('result' , cst + lit(pm_EY['XYZ_12'] + 0) + (col('name_8')/ lit(pm_EY['ABC_17'] + 0)) /lit(pm_EY['ABC_12'] + 0) + lit(pm_EY['XYZ_17'] + 0))\n",
        "    cst = df.withColumn('result' , cst + lit(pm_EY['XYZ_13'] + 0) + (col('name_9')/ lit(pm_EY['ABC_18'] + 0)) /lit(pm_EY['ABC_13'] + 0) + lit(pm_EY['XYZ_18'] + 0))\n",
        "    cst = df.withColumn('result' , cst + lit(pm_EY['XYZ_14'] + 0) + (col('name_11')/ lit(pm_EY['ABC_19'] + 0)) /lit(pm_EY['ABC_14'] + 0) + lit(pm_EY['XYZ_19'] + 0))\n",
        "\n",
        "    if funcid == 1:\n",
        "      cst_1 = cst.withColumn('result1' , lit(0))\n",
        "      for i in range(0 , 10):\n",
        "        params = Parameters()\n",
        "        params.add('a', value=float(dict_F['X'+str(i)][0]))\n",
        "        params.add('b', value=float(dict_F['X'+str(i)][1]))\n",
        "        params.add('c', value=float(dict_F['X'+str(i)][2]))\n",
        "        cst_1 = func_plin(pm_2['X'+str(i)] ,cst_1 ,'name_12' ,params['a'], params['b'], params['c'])\n",
        "        cst_1 = cst_1.withColumn('result1' , f.col('result1') + cst_1['values'])\n",
        "\n",
        "    elif  funcid == 2:\n",
        "        for i in range(10 , 20):\n",
        "            params = Parameters()\n",
        "            params.add('a', value=float(dict_F['X'+str(i)][0]))\n",
        "            params.add('b', value=float(dict_F['X'+str(i)][1]))\n",
        "            params.add('c', value=float(dict_F['X'+str(i)][2]))\n",
        "            cst_1 = func_plin(pm_2['X'+str(i)] ,cst_1 , 'name_12' ,params['a'], params['b'], params['c'])\n",
        "            cst_1 = cst_1.withColumn('result1' , f.col('result1') + cst_1['values'])\n",
        "\n",
        "    return cst_1.withColumn('result' , exp(col('result') + col('result1')))\n",
        "\n",
        "#############################################################################################\n",
        "\n",
        "def model_func(pm_EY_EST , PM ,funcid , submod , df):\n",
        "    if submod == 'TOT':\n",
        "        y_mod = model_func_tot(pm_EY_EST , PM , df ,funcid )\n",
        "    elif submod == 'PRX':\n",
        "        y_mod = model_func_prx(pm_EY_EST , PM , df ,funcid )\n",
        "    else:\n",
        "        y_mod = model_func_cst(pm_EY_EST , PM , df ,funcid )\n",
        "    return  y_mod\n",
        "\n",
        "####################################################################\n",
        "def model_func_fit(pm_EY_EST , PM  ,funcid , submod, df):\n",
        "    y_mod = model_func(pm_EY_EST , PM  ,funcid , submod, df)\n",
        "    er = y_mod.withColumn('er' , col('result') - df['Y_act'])\n",
        "    er = er.withColumn('er' , col('er') * sqrt(abs(col('wgt'))))\n",
        "    er = np.array([row.er for row in er.select('er').collect()])\n",
        "    return er"
      ],
      "metadata": {
        "id": "TI2ia9KSEhRA"
      },
      "execution_count": null,
      "outputs": []
    },
    {
      "cell_type": "code",
      "source": [
        "import datetime\n",
        "start_time = datetime.datetime.now()\n",
        "print (\"Time start time is  : \", end = \"\")\n",
        "print (start_time)\n",
        "\n",
        "#############################################\n",
        "\n",
        "pm_EY_EST = PM.pm_EY\n",
        "funcid = 1\n",
        "submod = 'TOT'\n",
        "out = Minimizer(model_func_fit, pm_EY_EST  ,fcn_args = ( PM  ,funcid , submod,df_data,))\n",
        "out = out.minimize()\n",
        "\n",
        "###########################################\n",
        "end_time = datetime.datetime.now()\n",
        "print (\"Time end time is  : \", end = \"\")\n",
        "print (end_time)"
      ],
      "metadata": {
        "colab": {
          "base_uri": "https://localhost:8080/"
        },
        "id": "OO3yQbMHAIae",
        "outputId": "be6e6e12-154a-4e85-b64c-909a4eb072d8"
      },
      "execution_count": null,
      "outputs": [
        {
          "output_type": "stream",
          "name": "stdout",
          "text": [
            "Time start time is  : 2023-12-19 08:30:35.070658\n",
            "Time end time is  : 2023-12-19 08:31:10.913418\n"
          ]
        }
      ]
    },
    {
      "cell_type": "code",
      "source": [
        "out"
      ],
      "metadata": {
        "colab": {
          "base_uri": "https://localhost:8080/",
          "height": 1000
        },
        "id": "TdcN84pxM8sz",
        "outputId": "85521e72-e8e2-4188-bdec-461f8ff93b71"
      },
      "execution_count": null,
      "outputs": [
        {
          "output_type": "execute_result",
          "data": {
            "text/plain": [
              "<lmfit.minimizer.MinimizerResult at 0x78fe7c0bd2a0>"
            ],
            "text/html": [
              "<h2>Fit Result</h2> <table class=\"jp-toc-ignore\"><caption class=\"jp-toc-ignore\">Fit Statistics</caption><tr><td style='text-align:left'>fitting method</td><td style='text-align:right'>leastsq</td></tr><tr><td style='text-align:left'># function evals</td><td style='text-align:right'>43</td></tr><tr><td style='text-align:left'># data points</td><td style='text-align:right'>2000000</td></tr><tr><td style='text-align:left'># variables</td><td style='text-align:right'>20</td></tr><tr><td style='text-align:left'>chi-square</td><td style='text-align:right'> 2.2637e+14</td></tr><tr><td style='text-align:left'>reduced chi-square</td><td style='text-align:right'> 1.1319e+08</td></tr><tr><td style='text-align:left'>Akaike info crit.</td><td style='text-align:right'> 37089121.0</td></tr><tr><td style='text-align:left'>Bayesian info crit.</td><td style='text-align:right'> 37089371.2</td></tr></table><table class=\"jp-toc-ignore\"><caption>Parameters</caption><tr><th style='text-align:left'>name</th><th style='text-align:left'>value</th><th style='text-align:left'>standard error</th><th style='text-align:left'>relative error</th><th style='text-align:left'>initial value</th><th style='text-align:left'>min</th><th style='text-align:left'>max</th><th style='text-align:right'>vary</th></tr><tr><td style='text-align:left'>XYZ_0</td><td style='text-align:left'>-9337.78363</td><td style='text-align:left'> 3.1834e+11</td><td style='text-align:left'>(3409195894.85%)</td><td style='text-align:left'>0.0</td><td style='text-align:left'>       -inf</td><td style='text-align:left'>        inf</td><td style='text-align:right'>True</td></tr><tr><td style='text-align:left'>XYZ_1</td><td style='text-align:left'>-2402.69166</td><td style='text-align:left'> 2.6244e+11</td><td style='text-align:left'>(10922791519.49%)</td><td style='text-align:left'>2.6315789473684212</td><td style='text-align:left'>       -inf</td><td style='text-align:left'>        inf</td><td style='text-align:right'>True</td></tr><tr><td style='text-align:left'>XYZ_2</td><td style='text-align:left'> 716.325128</td><td style='text-align:left'> 5.2715e+10</td><td style='text-align:left'>(7359031355.85%)</td><td style='text-align:left'>5.2631578947368425</td><td style='text-align:left'>       -inf</td><td style='text-align:left'>        inf</td><td style='text-align:right'>True</td></tr><tr><td style='text-align:left'>XYZ_3</td><td style='text-align:left'> 2754.20824</td><td style='text-align:left'> 6.4917e+10</td><td style='text-align:left'>(2357014346.53%)</td><td style='text-align:left'>7.894736842105264</td><td style='text-align:left'>       -inf</td><td style='text-align:left'>        inf</td><td style='text-align:right'>True</td></tr><tr><td style='text-align:left'>XYZ_4</td><td style='text-align:left'> 4948.35336</td><td style='text-align:left'> 7.0166e+10</td><td style='text-align:left'>(1417975752.34%)</td><td style='text-align:left'>10.526315789473685</td><td style='text-align:left'>       -inf</td><td style='text-align:left'>        inf</td><td style='text-align:right'>True</td></tr><tr><td style='text-align:left'>XYZ_5</td><td style='text-align:left'>-6977.87469</td><td style='text-align:left'> 3.2574e+10</td><td style='text-align:left'>(466817776.31%)</td><td style='text-align:left'>13.157894736842106</td><td style='text-align:left'>       -inf</td><td style='text-align:left'>        inf</td><td style='text-align:right'>True</td></tr><tr><td style='text-align:left'>XYZ_6</td><td style='text-align:left'>-11855.4930</td><td style='text-align:left'> 2.4142e+10</td><td style='text-align:left'>(203632449.03%)</td><td style='text-align:left'>15.789473684210527</td><td style='text-align:left'>       -inf</td><td style='text-align:left'>        inf</td><td style='text-align:right'>True</td></tr><tr><td style='text-align:left'>XYZ_7</td><td style='text-align:left'> 503.366824</td><td style='text-align:left'> 1.6600e+11</td><td style='text-align:left'>(32977292539.15%)</td><td style='text-align:left'>18.42105263157895</td><td style='text-align:left'>       -inf</td><td style='text-align:left'>        inf</td><td style='text-align:right'>True</td></tr><tr><td style='text-align:left'>XYZ_8</td><td style='text-align:left'>-12928.3569</td><td style='text-align:left'> 1.9751e+10</td><td style='text-align:left'>(152770001.88%)</td><td style='text-align:left'>21.05263157894737</td><td style='text-align:left'>       -inf</td><td style='text-align:left'>        inf</td><td style='text-align:right'>True</td></tr><tr><td style='text-align:left'>XYZ_9</td><td style='text-align:left'> 7730.73445</td><td style='text-align:left'> 4.1283e+10</td><td style='text-align:left'>(534005853.27%)</td><td style='text-align:left'>23.68421052631579</td><td style='text-align:left'>       -inf</td><td style='text-align:left'>        inf</td><td style='text-align:right'>True</td></tr><tr><td style='text-align:left'>XYZ_10</td><td style='text-align:left'> 2154.90542</td><td style='text-align:left'> 9.2580e+10</td><td style='text-align:left'>(4296225733.98%)</td><td style='text-align:left'>26.315789473684212</td><td style='text-align:left'>       -inf</td><td style='text-align:left'>        inf</td><td style='text-align:right'>True</td></tr><tr><td style='text-align:left'>XYZ_11</td><td style='text-align:left'> 5184.56682</td><td style='text-align:left'> 4.6848e+10</td><td style='text-align:left'>(903608421.50%)</td><td style='text-align:left'>28.947368421052634</td><td style='text-align:left'>       -inf</td><td style='text-align:left'>        inf</td><td style='text-align:right'>True</td></tr><tr><td style='text-align:left'>XYZ_12</td><td style='text-align:left'> 2101.76337</td><td style='text-align:left'> 1.0576e+11</td><td style='text-align:left'>(5031753297.06%)</td><td style='text-align:left'>31.578947368421055</td><td style='text-align:left'>       -inf</td><td style='text-align:left'>        inf</td><td style='text-align:right'>True</td></tr><tr><td style='text-align:left'>XYZ_13</td><td style='text-align:left'> 5090.58447</td><td style='text-align:left'> 7.2204e+10</td><td style='text-align:left'>(1418378217.52%)</td><td style='text-align:left'>34.21052631578948</td><td style='text-align:left'>       -inf</td><td style='text-align:left'>        inf</td><td style='text-align:right'>True</td></tr><tr><td style='text-align:left'>XYZ_14</td><td style='text-align:left'>-8662.07246</td><td style='text-align:left'> 1.0800e+10</td><td style='text-align:left'>(124685994.27%)</td><td style='text-align:left'>36.8421052631579</td><td style='text-align:left'>       -inf</td><td style='text-align:left'>        inf</td><td style='text-align:right'>True</td></tr><tr><td style='text-align:left'>XYZ_15</td><td style='text-align:left'> 5747.94184</td><td style='text-align:left'> 2.4984e+10</td><td style='text-align:left'>(434664726.83%)</td><td style='text-align:left'>39.473684210526315</td><td style='text-align:left'>       -inf</td><td style='text-align:left'>        inf</td><td style='text-align:right'>True</td></tr><tr><td style='text-align:left'>XYZ_16</td><td style='text-align:left'>-7825.22372</td><td style='text-align:left'> 3.0448e+08</td><td style='text-align:left'>(3891019.87%)</td><td style='text-align:left'>42.10526315789474</td><td style='text-align:left'>       -inf</td><td style='text-align:left'>        inf</td><td style='text-align:right'>True</td></tr><tr><td style='text-align:left'>XYZ_17</td><td style='text-align:left'> 5261.68579</td><td style='text-align:left'> 8.5188e+10</td><td style='text-align:left'>(1619030220.81%)</td><td style='text-align:left'>44.736842105263165</td><td style='text-align:left'>       -inf</td><td style='text-align:left'>        inf</td><td style='text-align:right'>True</td></tr><tr><td style='text-align:left'>XYZ_18</td><td style='text-align:left'> 1736.25723</td><td style='text-align:left'> 1.0654e+11</td><td style='text-align:left'>(6136439857.87%)</td><td style='text-align:left'>47.36842105263158</td><td style='text-align:left'>       -inf</td><td style='text-align:left'>        inf</td><td style='text-align:right'>True</td></tr><tr><td style='text-align:left'>XYZ_19</td><td style='text-align:left'> 6298.71998</td><td style='text-align:left'> 2.1534e+10</td><td style='text-align:left'>(341874522.30%)</td><td style='text-align:left'>50.0</td><td style='text-align:left'>       -inf</td><td style='text-align:left'>        inf</td><td style='text-align:right'>True</td></tr></table><table class=\"jp-toc-ignore\"><caption>Correlations (unreported values are < 0.100)</caption><tr><th style='text-align:left'>Parameter1</th><th style='text-align:left'>Parameter 2</th><th style='text-align:right'>Correlation</th></tr><tr><td style='text-align:left'>XYZ_0</td><td style='text-align:left'>XYZ_1</td><td style='text-align:right'>-0.8179</td></tr><tr><td style='text-align:left'>XYZ_4</td><td style='text-align:left'>XYZ_9</td><td style='text-align:right'>-0.7329</td></tr><tr><td style='text-align:left'>XYZ_1</td><td style='text-align:left'>XYZ_6</td><td style='text-align:right'>-0.6398</td></tr><tr><td style='text-align:left'>XYZ_0</td><td style='text-align:left'>XYZ_6</td><td style='text-align:right'>+0.5175</td></tr><tr><td style='text-align:left'>XYZ_16</td><td style='text-align:left'>XYZ_19</td><td style='text-align:right'>-0.4730</td></tr><tr><td style='text-align:left'>XYZ_0</td><td style='text-align:left'>XYZ_7</td><td style='text-align:right'>-0.3671</td></tr><tr><td style='text-align:left'>XYZ_10</td><td style='text-align:left'>XYZ_12</td><td style='text-align:right'>-0.3366</td></tr><tr><td style='text-align:left'>XYZ_13</td><td style='text-align:left'>XYZ_14</td><td style='text-align:right'>-0.3215</td></tr><tr><td style='text-align:left'>XYZ_14</td><td style='text-align:left'>XYZ_19</td><td style='text-align:right'>-0.3013</td></tr><tr><td style='text-align:left'>XYZ_12</td><td style='text-align:left'>XYZ_16</td><td style='text-align:right'>-0.2784</td></tr><tr><td style='text-align:left'>XYZ_9</td><td style='text-align:left'>XYZ_19</td><td style='text-align:right'>-0.2771</td></tr><tr><td style='text-align:left'>XYZ_14</td><td style='text-align:left'>XYZ_16</td><td style='text-align:right'>+0.2582</td></tr><tr><td style='text-align:left'>XYZ_11</td><td style='text-align:left'>XYZ_14</td><td style='text-align:right'>-0.2518</td></tr><tr><td style='text-align:left'>XYZ_11</td><td style='text-align:left'>XYZ_13</td><td style='text-align:right'>-0.2504</td></tr><tr><td style='text-align:left'>XYZ_13</td><td style='text-align:left'>XYZ_17</td><td style='text-align:right'>-0.2205</td></tr><tr><td style='text-align:left'>XYZ_10</td><td style='text-align:left'>XYZ_16</td><td style='text-align:right'>-0.2110</td></tr><tr><td style='text-align:left'>XYZ_4</td><td style='text-align:left'>XYZ_19</td><td style='text-align:right'>+0.2059</td></tr><tr><td style='text-align:left'>XYZ_11</td><td style='text-align:left'>XYZ_19</td><td style='text-align:right'>-0.1981</td></tr><tr><td style='text-align:left'>XYZ_11</td><td style='text-align:left'>XYZ_17</td><td style='text-align:right'>-0.1918</td></tr><tr><td style='text-align:left'>XYZ_12</td><td style='text-align:left'>XYZ_17</td><td style='text-align:right'>-0.1857</td></tr><tr><td style='text-align:left'>XYZ_16</td><td style='text-align:left'>XYZ_17</td><td style='text-align:right'>+0.1851</td></tr><tr><td style='text-align:left'>XYZ_0</td><td style='text-align:left'>XYZ_16</td><td style='text-align:right'>+0.1815</td></tr><tr><td style='text-align:left'>XYZ_13</td><td style='text-align:left'>XYZ_19</td><td style='text-align:right'>-0.1752</td></tr><tr><td style='text-align:left'>XYZ_7</td><td style='text-align:left'>XYZ_18</td><td style='text-align:right'>-0.1717</td></tr><tr><td style='text-align:left'>XYZ_8</td><td style='text-align:left'>XYZ_15</td><td style='text-align:right'>-0.1706</td></tr><tr><td style='text-align:left'>XYZ_5</td><td style='text-align:left'>XYZ_15</td><td style='text-align:right'>-0.1636</td></tr><tr><td style='text-align:left'>XYZ_5</td><td style='text-align:left'>XYZ_8</td><td style='text-align:right'>-0.1619</td></tr><tr><td style='text-align:left'>XYZ_0</td><td style='text-align:left'>XYZ_14</td><td style='text-align:right'>+0.1578</td></tr><tr><td style='text-align:left'>XYZ_0</td><td style='text-align:left'>XYZ_8</td><td style='text-align:right'>+0.1548</td></tr><tr><td style='text-align:left'>XYZ_3</td><td style='text-align:left'>XYZ_8</td><td style='text-align:right'>-0.1542</td></tr><tr><td style='text-align:left'>XYZ_3</td><td style='text-align:left'>XYZ_15</td><td style='text-align:right'>-0.1524</td></tr><tr><td style='text-align:left'>XYZ_11</td><td style='text-align:left'>XYZ_16</td><td style='text-align:right'>-0.1473</td></tr><tr><td style='text-align:left'>XYZ_3</td><td style='text-align:left'>XYZ_5</td><td style='text-align:right'>-0.1461</td></tr><tr><td style='text-align:left'>XYZ_10</td><td style='text-align:left'>XYZ_19</td><td style='text-align:right'>-0.1461</td></tr><tr><td style='text-align:left'>XYZ_3</td><td style='text-align:left'>XYZ_18</td><td style='text-align:right'>-0.1437</td></tr><tr><td style='text-align:left'>XYZ_3</td><td style='text-align:left'>XYZ_7</td><td style='text-align:right'>-0.1423</td></tr><tr><td style='text-align:left'>XYZ_0</td><td style='text-align:left'>XYZ_12</td><td style='text-align:right'>-0.1389</td></tr><tr><td style='text-align:left'>XYZ_0</td><td style='text-align:left'>XYZ_18</td><td style='text-align:right'>-0.1385</td></tr><tr><td style='text-align:left'>XYZ_5</td><td style='text-align:left'>XYZ_18</td><td style='text-align:right'>-0.1375</td></tr><tr><td style='text-align:left'>XYZ_8</td><td style='text-align:left'>XYZ_18</td><td style='text-align:right'>-0.1375</td></tr><tr><td style='text-align:left'>XYZ_15</td><td style='text-align:left'>XYZ_18</td><td style='text-align:right'>-0.1373</td></tr><tr><td style='text-align:left'>XYZ_0</td><td style='text-align:left'>XYZ_15</td><td style='text-align:right'>+0.1363</td></tr><tr><td style='text-align:left'>XYZ_0</td><td style='text-align:left'>XYZ_13</td><td style='text-align:right'>-0.1306</td></tr><tr><td style='text-align:left'>XYZ_5</td><td style='text-align:left'>XYZ_7</td><td style='text-align:right'>-0.1267</td></tr><tr><td style='text-align:left'>XYZ_10</td><td style='text-align:left'>XYZ_14</td><td style='text-align:right'>+0.1186</td></tr><tr><td style='text-align:left'>XYZ_10</td><td style='text-align:left'>XYZ_17</td><td style='text-align:right'>-0.1179</td></tr><tr><td style='text-align:left'>XYZ_14</td><td style='text-align:left'>XYZ_17</td><td style='text-align:right'>-0.1159</td></tr><tr><td style='text-align:left'>XYZ_0</td><td style='text-align:left'>XYZ_5</td><td style='text-align:right'>+0.1148</td></tr><tr><td style='text-align:left'>XYZ_7</td><td style='text-align:left'>XYZ_15</td><td style='text-align:right'>-0.1145</td></tr><tr><td style='text-align:left'>XYZ_7</td><td style='text-align:left'>XYZ_8</td><td style='text-align:right'>-0.1135</td></tr><tr><td style='text-align:left'>XYZ_0</td><td style='text-align:left'>XYZ_10</td><td style='text-align:right'>-0.1133</td></tr><tr><td style='text-align:left'>XYZ_0</td><td style='text-align:left'>XYZ_4</td><td style='text-align:right'>-0.1061</td></tr><tr><td style='text-align:left'>XYZ_0</td><td style='text-align:left'>XYZ_2</td><td style='text-align:right'>-0.1052</td></tr></table>"
            ]
          },
          "metadata": {},
          "execution_count": 10
        }
      ]
    },
    {
      "cell_type": "code",
      "source": [],
      "metadata": {
        "id": "zapejRysM9Rm"
      },
      "execution_count": null,
      "outputs": []
    }
  ]
}